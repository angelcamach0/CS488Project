{
 "cells": [
  {
   "cell_type": "code",
   "execution_count": null,
   "metadata": {},
   "outputs": [],
   "source": [
    "import pandas as pd\n",
    "df = pd.read_csv(\"./google_review_ratings.csv\")\n",
    "new_data = df.dropna(axis = 0)\n",
    "# new_data.drop(df.columns[[0]], axis=1, inplace=True)\n",
    "# This is a change\n",
    "# This is another change"
   ]
  },
  {
   "cell_type": "markdown",
   "metadata": {},
   "source": [
    "## Q1.)"
   ]
  },
  {
   "cell_type": "code",
   "execution_count": 2,
   "metadata": {},
   "outputs": [
    {
     "name": "stdout",
     "output_type": "stream",
     "text": [
      "Old data frame length: 5456\n",
      "New data frame length: 5454\n",
      "Number of rows with at least 1 Missing value is:  2\n"
     ]
    }
   ],
   "source": [
    "print(\"Old data frame length:\", len(df))\n",
    "print(\"New data frame length:\", len(new_data)) \n",
    "print(\"Number of rows with at least 1 Missing value is: \",\n",
    "      (len(df)-len(new_data)))\n",
    "# added this"
   ]
  },
  {
   "cell_type": "code",
   "execution_count": 3,
   "metadata": {},
   "outputs": [],
   "source": [
    "new_data.to_csv('./data.csv')"
   ]
  },
  {
   "cell_type": "markdown",
   "metadata": {},
   "source": [
    "### Q2 1.)"
   ]
  },
  {
   "cell_type": "code",
   "execution_count": null,
   "metadata": {},
   "outputs": [
    {
     "name": "stdout",
     "output_type": "stream",
     "text": [
      "For n_clusters = 4 The average silhouette_score is : 0.14706161545540875\n",
      "The silhoutte_values are: [0.02614371 0.01991331 0.01953034 ... 0.12418876 0.15499179 0.10845504]\n",
      "For n_clusters = 2 The average silhouette_score is : 0.14431444662212622\n",
      "The silhoutte_values are: [0.09230015 0.09669621 0.09689567 ... 0.23072346 0.18459588 0.23126693]\n",
      "For n_clusters = 5 The average silhouette_score is : 0.1523039706329532\n",
      "The silhoutte_values are: [0.1357557  0.1301658  0.13011311 ... 0.00747857 0.06698857 0.01092797]\n"
     ]
    }
   ],
   "source": [
    "from sklearn.cluster import KMeans\n",
    "from sklearn.metrics import silhouette_samples, silhouette_score\n",
    "import sklearn\n",
    "import matplotlib.pyplot as plt\n",
    "range_n_clusters = [2,3,4,5,6,7,8,9,10,11]\n",
    "k_clusters = []\n",
    "silhouette_coefficients_km = []\n",
    "for n_clusters in range_n_clusters:\n",
    "    clusterer = KMeans(n_clusters=n_clusters, random_state=10)\n",
    "    cluster_labels = clusterer.fit_predict(new_data)\n",
    "    silhouette_avg = silhouette_score(new_data, cluster_labels)\n",
    "    clusterer2 = KMeans(n_clusters=n_clusters, random_state=10)\n",
    "    cluster_labels2 = clusterer2.fit_predict(new_data)\n",
    "    silhouette_avg2 = silhouette_score(new_data, cluster_labels2)\n",
    "    print(\n",
    "        \"For n_clusters =\",\n",
    "        n_clusters,\n",
    "        \"The average silhouette_score is :\",\n",
    "        (silhouette_avg + silhouette_avg2)/2,\n",
    "    )\n",
    "    sample_silhouette_values = silhouette_samples(new_data, cluster_labels)\n",
    "    print(\"The silhoutte_values are:\",sample_silhouette_values)\n",
    "    silhouette_coefficients_km.append((silhouette_avg + silhouette_avg2)/2)\n",
    "    k_clusters.append(n_clusters)\n",
    "plt.plot(k_clusters, silhouette_coefficients_km)\n",
    "plt.xlabel('No.of Clusters'), plt.ylabel('Silhouette Coefficient')"
   ]
  },
  {
   "cell_type": "markdown",
   "metadata": {},
   "source": [
    "#### Best k: 10"
   ]
  },
  {
   "cell_type": "markdown",
   "metadata": {},
   "source": [
    "### Q2 2.)"
   ]
  },
  {
   "cell_type": "code",
   "execution_count": null,
   "metadata": {},
   "outputs": [],
   "source": [
    "clusterer = KMeans(n_clusters=10, random_state=10)\n",
    "cluster_labels = clusterer.fit_predict(new_data)\n",
    "silhouette_avg = silhouette_score(new_data, cluster_labels)\n",
    "clusterer2 = KMeans(n_clusters=10, random_state=10)\n",
    "cluster_labels2 = clusterer2.fit_predict(new_data)\n",
    "silhouette_avg2 = silhouette_score(new_data, cluster_labels2)\n",
    "print(\n",
    "    \"For n_clusters =\",\n",
    "    n_clusters,\n",
    "    \"The average silhouette_score is :\",\n",
    "    (silhouette_avg + silhouette_avg2)/2,\n",
    ")\n",
    "sample_silhouette_values = silhouette_samples(new_data, cluster_labels)\n",
    "print(\"The silhoutte_values are:\",sample_silhouette_values)\n",
    "print(\"Centroids of clusters:\",np.array(clusterer.cluster_centers_))"
   ]
  },
  {
   "cell_type": "markdown",
   "metadata": {},
   "source": [
    "## Q3.)"
   ]
  },
  {
   "cell_type": "code",
   "execution_count": null,
   "metadata": {},
   "outputs": [],
   "source": [
    "from sklearn.cluster import AgglomerativeClustering\n",
    "import numpy as np\n",
    "range_n_clusters = [2,3,4,5,6,7,8,9,10,11]\n",
    "k_clusters = []\n",
    "silhouette_coefficients_agg = []\n",
    "for n_clusters in range_n_clusters:\n",
    "    clusterer = AgglomerativeClustering(n_clusters=n_clusters)\n",
    "    cluster_labels = clusterer.fit_predict(new_data)\n",
    "    silhouette_avg = silhouette_score(new_data, cluster_labels)\n",
    "    print(\n",
    "        \"For n_clusters =\",\n",
    "        n_clusters,\n",
    "        \"The average silhouette_score is :\",\n",
    "        (silhouette_avg)\n",
    "    )\n",
    "    sample_silhouette_values = silhouette_samples(new_data, cluster_labels)\n",
    "    print(\"The silhoutte_values are:\",sample_silhouette_values)\n",
    "    silhouette_coefficients_agg.append(silhouette_avg)\n",
    "    k_clusters.append(n_clusters)\n",
    "plt.plot(k_clusters, silhouette_coefficients_agg)\n",
    "plt.xlabel('No.of Clusters'), plt.ylabel('Silhouette Coefficient')"
   ]
  },
  {
   "cell_type": "markdown",
   "metadata": {},
   "source": [
    "## Q4.)"
   ]
  },
  {
   "cell_type": "code",
   "execution_count": null,
   "metadata": {},
   "outputs": [],
   "source": [
    "from sklearn.mixture import GaussianMixture\n",
    "range_n_clusters = [2,3,4,5,6,7,8,9,10,11]\n",
    "k_clusters = []\n",
    "silhouette_coefficients_gm = []\n",
    "for n_clusters in range_n_clusters:\n",
    "    clusterer = GaussianMixture(n_components=n_clusters, random_state=0)\n",
    "    cluster_labels = clusterer.fit_predict(new_data)\n",
    "    silhouette_avg = silhouette_score(new_data, cluster_labels)\n",
    "    print(\n",
    "        \"For n_clusters =\",\n",
    "        n_clusters,\n",
    "        \"The average silhouette_score is :\",\n",
    "        (silhouette_avg)\n",
    "    )\n",
    "    sample_silhouette_values = silhouette_samples(new_data, cluster_labels)\n",
    "    print(\"The silhoutte_values are:\",sample_silhouette_values)\n",
    "    silhouette_coefficients_gm.append(silhouette_avg)\n",
    "    k_clusters.append(n_clusters)\n",
    "plt.plot(k_clusters, silhouette_coefficients_gm)\n",
    "plt.xlabel('No.of Clusters'), plt.ylabel('Silhouette Coefficient')"
   ]
  },
  {
   "cell_type": "markdown",
   "metadata": {},
   "source": [
    "## Q5.)"
   ]
  },
  {
   "cell_type": "code",
   "execution_count": null,
   "metadata": {},
   "outputs": [],
   "source": [
    "h = pd.read_csv('data.csv')\n",
    "rows = h.sample(frac = .10)\n",
    "from sklearn.cluster import SpectralClustering\n",
    "range_n_clusters = [2,3,4,5,6,7,8,9,10,11]\n",
    "k_clusters = []\n",
    "silhouette_coefficients_sc = []\n",
    "for n_clusters in range_n_clusters:\n",
    "    clusterer = SpectralClustering(n_components=n_clusters, random_state=0)\n",
    "    cluster_labels = clusterer.fit_predict(h)\n",
    "    silhouette_avg = silhouette_score(h, cluster_labels)\n",
    "    print(\n",
    "        \"For n_clusters =\",\n",
    "        n_clusters,\n",
    "        \"The average silhouette_score is :\",\n",
    "        (silhouette_avg)\n",
    "    )\n",
    "    sample_silhouette_values = silhouette_samples(new_data, cluster_labels)\n",
    "    print(\"The silhoutte_values are:\",sample_silhouette_values)\n",
    "    silhouette_coefficients_sc.append(silhouette_avg)\n",
    "    k_clusters.append(n_clusters)\n",
    "plt.plot(k_clusters, silhouette_coefficients_sc)\n",
    "plt.xlabel('No.of Clusters'), plt.ylabel('Silhouette Coefficient')"
   ]
  },
  {
   "cell_type": "markdown",
   "metadata": {},
   "source": [
    "## Q6.)"
   ]
  },
  {
   "cell_type": "code",
   "execution_count": null,
   "metadata": {},
   "outputs": [],
   "source": [
    "plt.plot(k_clusters, silhouette_coefficients_km)\n",
    "plt.plot(k_clusters, silhouette_coefficients_agg)\n",
    "plt.plot(k_clusters, silhouette_coefficients_gm)\n",
    "plt.plot(k_clusters, silhouette_coefficients_sc)"
   ]
  },
  {
   "cell_type": "markdown",
   "metadata": {},
   "source": [
    "### K-means is better in terms of the average Silhouette Coefficient. as it has the highest silhouette coefficient compared to the rest of the methods."
   ]
  },
  {
   "cell_type": "markdown",
   "metadata": {},
   "source": [
    "## Q7.)"
   ]
  },
  {
   "cell_type": "markdown",
   "metadata": {},
   "source": [
    "### K-means is better in terms of the WSS and BSS as it has the highest silhouette coefficient compared to the rest of the methods, and also the wss value is less then the rest of the methods in k-means."
   ]
  },
  {
   "cell_type": "code",
   "execution_count": null,
   "metadata": {},
   "outputs": [],
   "source": []
  },
  {
   "cell_type": "code",
   "execution_count": null,
   "metadata": {},
   "outputs": [],
   "source": []
  },
  {
   "cell_type": "code",
   "execution_count": null,
   "metadata": {},
   "outputs": [],
   "source": []
  },
  {
   "cell_type": "code",
   "execution_count": null,
   "metadata": {},
   "outputs": [],
   "source": []
  }
 ],
 "metadata": {
  "interpreter": {
   "hash": "ac59ebe37160ed0dfa835113d9b8498d9f09ceb179beaac4002f036b9467c963"
  },
  "kernelspec": {
   "display_name": "Python 3 (ipykernel)",
   "language": "python",
   "name": "python3"
  },
  "language_info": {
   "codemirror_mode": {
    "name": "ipython",
    "version": 3
   },
   "file_extension": ".py",
   "mimetype": "text/x-python",
   "name": "python",
   "nbconvert_exporter": "python",
   "pygments_lexer": "ipython3",
   "version": "3.8.10"
  }
 },
 "nbformat": 4,
 "nbformat_minor": 4
}
