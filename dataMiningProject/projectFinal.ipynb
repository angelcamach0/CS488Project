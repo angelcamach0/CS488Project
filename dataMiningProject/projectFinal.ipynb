{
 "cells": [
  {
   "cell_type": "markdown",
   "metadata": {
    "pycharm": {
     "name": "#%% md\n"
    }
   },
   "source": [
    "### Group Members:\n",
    "* Courtney Mueller\n",
    "* Angel Camacho\n",
    "* Matthew Grover"
   ]
  },
  {
   "cell_type": "code",
   "execution_count": 2,
   "metadata": {
    "pycharm": {
     "name": "#%%\n"
    }
   },
   "outputs": [],
   "source": [
    "# importing potentially necessary libraries\n",
    "\n",
    "import pandas as pd\n",
    "import numpy as np\n",
    "import matplotlib.pyplot as plt\n",
    "import seaborn as sns\n",
    "import matplotlib\n",
    "from sklearn.linear_model import LinearRegression\n",
    "from sklearn.model_selection import train_test_split\n",
    "from scipy.stats import pearsonr\n",
    "from sklearn.metrics import mean_squared_error\n",
    "from math import sqrt"
   ]
  },
  {
   "cell_type": "markdown",
   "metadata": {
    "pycharm": {
     "name": "#%% md\n"
    }
   },
   "source": [
    "***\n",
    "## First Dataset: [FirstDataset](https://www.kaggle.com/datasets/jummyegg/rawg-game-dataset/code?resource=download)\n",
    "#### Display information about rows and columns in dataset:"
   ]
  },
  {
   "cell_type": "code",
   "execution_count": 3,
   "metadata": {
    "pycharm": {
     "name": "#%%\n"
    }
   },
   "outputs": [
    {
     "name": "stdout",
     "output_type": "stream",
     "text": [
      "shape:  (345667, 27)\n"
     ]
    },
    {
     "data": {
      "text/plain": "           id               slug                   name  metacritic  \\\n0           1     dgeneration-hd        D/Generation HD         NaN   \n1          10            g-prime  G Prime Into The Rain         NaN   \n2         100       land-sliders           Land Sliders         NaN   \n3        1000         pixel-gear             Pixel Gear         NaN   \n4       10000     gods-and-idols         Gods and Idols         NaN   \n...       ...                ...                    ...         ...   \n345662  99994       holy-or-dead           Holy or Dead         NaN   \n345663  99995  airstrike-hd-demo      Airstrike HD Demo         NaN   \n345664  99997     uranias-mirror        Urania's Mirror         NaN   \n345665  99998         simucities             Simucities         NaN   \n345666  99999     pocket-assault  Pocket Assault (itch)         NaN   \n\n          released    tba              updated  \\\n0       2015-10-23  False  2019-09-17T11:58:57   \n1       2016-01-06  False  2019-11-06T23:04:19   \n2       2015-09-24  False  2019-10-22T13:56:16   \n3       2016-10-20  False  2019-08-28T22:16:02   \n4       2016-12-12  False  2019-09-17T13:37:13   \n...            ...    ...                  ...   \n345662  2017-05-17  False  2019-01-09T12:41:06   \n345663  2016-03-04  False  2019-01-09T12:41:06   \n345664  2016-04-25  False  2019-01-09T12:41:06   \n345665  2017-05-26  False  2019-01-09T12:41:06   \n345666  2015-08-20  False  2019-01-09T12:41:06   \n\n                                                  website  rating  rating_top  \\\n0                                  http://dgeneration.net     0.0           0   \n1                                                     NaN     0.0           0   \n2                                  http://prettygreat.com     0.0           0   \n3       https://www.facebook.com/Geronimo-Interactive-...     0.0           0   \n4                            http://www.godsandidols.com/     0.0           0   \n...                                                   ...     ...         ...   \n345662                                                NaN     0.0           0   \n345663                                                NaN     0.0           0   \n345664                                                NaN     0.0           0   \n345665                                                NaN     0.0           0   \n345666                                                NaN     0.0           0   \n\n        ...                                        developers  \\\n0       ...  West Coast Software||West Coast Software Limited   \n1       ...                                        Soma Games   \n2       ...                             Prettygreat Pty. Ltd.   \n3       ...         Oasis Games Limited||Geronimo Interactive   \n4       ...                                        Viking Tao   \n...     ...                                               ...   \n345662  ...                                           Ralidon   \n345663  ...                           Fifth Dimension Company   \n345664  ...                                        sneakthief   \n345665  ...                                         keypixels   \n345666  ...                                 Carsten_Ostermann   \n\n                                      genres  \\\n0                          Adventure||Puzzle   \n1                          Simulation||Indie   \n2                          Adventure||Arcade   \n3                              Action||Indie   \n4       RPG||Strategy||Massively Multiplayer   \n...                                      ...   \n345662                                   NaN   \n345663                                Action   \n345664                             Adventure   \n345665                                   NaN   \n345666                               Shooter   \n\n                                               publishers   esrb_rating  \\\n0        West Coast Software||West Coast Software Limited  Everyone 10+   \n1       Code-Monkeys||Code-Monkeys LLC||Immanitas Ente...      Everyone   \n2                                   Prettygreat Pty. Ltd.  Everyone 10+   \n3                                    Geronimo Interactive          Teen   \n4                                              Viking Tao           NaN   \n...                                                   ...           ...   \n345662                                                NaN           NaN   \n345663                                                NaN           NaN   \n345664                                                NaN           NaN   \n345665                                                NaN           NaN   \n345666                                                NaN           NaN   \n\n        added_status_yet  added_status_owned added_status_beaten  \\\n0                      3                  70                   0   \n1                      0                  39                   0   \n2                      0                   0                   1   \n3                      0                   0                   0   \n4                      1                  57                   0   \n...                  ...                 ...                 ...   \n345662                 0                   0                   0   \n345663                 0                   0                   0   \n345664                 0                   0                   0   \n345665                 0                   0                   0   \n345666                 0                   0                   0   \n\n       added_status_toplay added_status_dropped added_status_playing  \n0                        2                    0                    0  \n1                        1                    0                    0  \n2                        1                    1                    0  \n3                        2                    0                    0  \n4                        1                    0                    0  \n...                    ...                  ...                  ...  \n345662                   0                    0                    0  \n345663                   0                    0                    0  \n345664                   0                    0                    0  \n345665                   0                    0                    0  \n345666                   0                    0                    0  \n\n[345667 rows x 27 columns]",
      "text/html": "<div>\n<style scoped>\n    .dataframe tbody tr th:only-of-type {\n        vertical-align: middle;\n    }\n\n    .dataframe tbody tr th {\n        vertical-align: top;\n    }\n\n    .dataframe thead th {\n        text-align: right;\n    }\n</style>\n<table border=\"1\" class=\"dataframe\">\n  <thead>\n    <tr style=\"text-align: right;\">\n      <th></th>\n      <th>id</th>\n      <th>slug</th>\n      <th>name</th>\n      <th>metacritic</th>\n      <th>released</th>\n      <th>tba</th>\n      <th>updated</th>\n      <th>website</th>\n      <th>rating</th>\n      <th>rating_top</th>\n      <th>...</th>\n      <th>developers</th>\n      <th>genres</th>\n      <th>publishers</th>\n      <th>esrb_rating</th>\n      <th>added_status_yet</th>\n      <th>added_status_owned</th>\n      <th>added_status_beaten</th>\n      <th>added_status_toplay</th>\n      <th>added_status_dropped</th>\n      <th>added_status_playing</th>\n    </tr>\n  </thead>\n  <tbody>\n    <tr>\n      <th>0</th>\n      <td>1</td>\n      <td>dgeneration-hd</td>\n      <td>D/Generation HD</td>\n      <td>NaN</td>\n      <td>2015-10-23</td>\n      <td>False</td>\n      <td>2019-09-17T11:58:57</td>\n      <td>http://dgeneration.net</td>\n      <td>0.0</td>\n      <td>0</td>\n      <td>...</td>\n      <td>West Coast Software||West Coast Software Limited</td>\n      <td>Adventure||Puzzle</td>\n      <td>West Coast Software||West Coast Software Limited</td>\n      <td>Everyone 10+</td>\n      <td>3</td>\n      <td>70</td>\n      <td>0</td>\n      <td>2</td>\n      <td>0</td>\n      <td>0</td>\n    </tr>\n    <tr>\n      <th>1</th>\n      <td>10</td>\n      <td>g-prime</td>\n      <td>G Prime Into The Rain</td>\n      <td>NaN</td>\n      <td>2016-01-06</td>\n      <td>False</td>\n      <td>2019-11-06T23:04:19</td>\n      <td>NaN</td>\n      <td>0.0</td>\n      <td>0</td>\n      <td>...</td>\n      <td>Soma Games</td>\n      <td>Simulation||Indie</td>\n      <td>Code-Monkeys||Code-Monkeys LLC||Immanitas Ente...</td>\n      <td>Everyone</td>\n      <td>0</td>\n      <td>39</td>\n      <td>0</td>\n      <td>1</td>\n      <td>0</td>\n      <td>0</td>\n    </tr>\n    <tr>\n      <th>2</th>\n      <td>100</td>\n      <td>land-sliders</td>\n      <td>Land Sliders</td>\n      <td>NaN</td>\n      <td>2015-09-24</td>\n      <td>False</td>\n      <td>2019-10-22T13:56:16</td>\n      <td>http://prettygreat.com</td>\n      <td>0.0</td>\n      <td>0</td>\n      <td>...</td>\n      <td>Prettygreat Pty. Ltd.</td>\n      <td>Adventure||Arcade</td>\n      <td>Prettygreat Pty. Ltd.</td>\n      <td>Everyone 10+</td>\n      <td>0</td>\n      <td>0</td>\n      <td>1</td>\n      <td>1</td>\n      <td>1</td>\n      <td>0</td>\n    </tr>\n    <tr>\n      <th>3</th>\n      <td>1000</td>\n      <td>pixel-gear</td>\n      <td>Pixel Gear</td>\n      <td>NaN</td>\n      <td>2016-10-20</td>\n      <td>False</td>\n      <td>2019-08-28T22:16:02</td>\n      <td>https://www.facebook.com/Geronimo-Interactive-...</td>\n      <td>0.0</td>\n      <td>0</td>\n      <td>...</td>\n      <td>Oasis Games Limited||Geronimo Interactive</td>\n      <td>Action||Indie</td>\n      <td>Geronimo Interactive</td>\n      <td>Teen</td>\n      <td>0</td>\n      <td>0</td>\n      <td>0</td>\n      <td>2</td>\n      <td>0</td>\n      <td>0</td>\n    </tr>\n    <tr>\n      <th>4</th>\n      <td>10000</td>\n      <td>gods-and-idols</td>\n      <td>Gods and Idols</td>\n      <td>NaN</td>\n      <td>2016-12-12</td>\n      <td>False</td>\n      <td>2019-09-17T13:37:13</td>\n      <td>http://www.godsandidols.com/</td>\n      <td>0.0</td>\n      <td>0</td>\n      <td>...</td>\n      <td>Viking Tao</td>\n      <td>RPG||Strategy||Massively Multiplayer</td>\n      <td>Viking Tao</td>\n      <td>NaN</td>\n      <td>1</td>\n      <td>57</td>\n      <td>0</td>\n      <td>1</td>\n      <td>0</td>\n      <td>0</td>\n    </tr>\n    <tr>\n      <th>...</th>\n      <td>...</td>\n      <td>...</td>\n      <td>...</td>\n      <td>...</td>\n      <td>...</td>\n      <td>...</td>\n      <td>...</td>\n      <td>...</td>\n      <td>...</td>\n      <td>...</td>\n      <td>...</td>\n      <td>...</td>\n      <td>...</td>\n      <td>...</td>\n      <td>...</td>\n      <td>...</td>\n      <td>...</td>\n      <td>...</td>\n      <td>...</td>\n      <td>...</td>\n      <td>...</td>\n    </tr>\n    <tr>\n      <th>345662</th>\n      <td>99994</td>\n      <td>holy-or-dead</td>\n      <td>Holy or Dead</td>\n      <td>NaN</td>\n      <td>2017-05-17</td>\n      <td>False</td>\n      <td>2019-01-09T12:41:06</td>\n      <td>NaN</td>\n      <td>0.0</td>\n      <td>0</td>\n      <td>...</td>\n      <td>Ralidon</td>\n      <td>NaN</td>\n      <td>NaN</td>\n      <td>NaN</td>\n      <td>0</td>\n      <td>0</td>\n      <td>0</td>\n      <td>0</td>\n      <td>0</td>\n      <td>0</td>\n    </tr>\n    <tr>\n      <th>345663</th>\n      <td>99995</td>\n      <td>airstrike-hd-demo</td>\n      <td>Airstrike HD Demo</td>\n      <td>NaN</td>\n      <td>2016-03-04</td>\n      <td>False</td>\n      <td>2019-01-09T12:41:06</td>\n      <td>NaN</td>\n      <td>0.0</td>\n      <td>0</td>\n      <td>...</td>\n      <td>Fifth Dimension Company</td>\n      <td>Action</td>\n      <td>NaN</td>\n      <td>NaN</td>\n      <td>0</td>\n      <td>0</td>\n      <td>0</td>\n      <td>0</td>\n      <td>0</td>\n      <td>0</td>\n    </tr>\n    <tr>\n      <th>345664</th>\n      <td>99997</td>\n      <td>uranias-mirror</td>\n      <td>Urania's Mirror</td>\n      <td>NaN</td>\n      <td>2016-04-25</td>\n      <td>False</td>\n      <td>2019-01-09T12:41:06</td>\n      <td>NaN</td>\n      <td>0.0</td>\n      <td>0</td>\n      <td>...</td>\n      <td>sneakthief</td>\n      <td>Adventure</td>\n      <td>NaN</td>\n      <td>NaN</td>\n      <td>0</td>\n      <td>0</td>\n      <td>0</td>\n      <td>0</td>\n      <td>0</td>\n      <td>0</td>\n    </tr>\n    <tr>\n      <th>345665</th>\n      <td>99998</td>\n      <td>simucities</td>\n      <td>Simucities</td>\n      <td>NaN</td>\n      <td>2017-05-26</td>\n      <td>False</td>\n      <td>2019-01-09T12:41:06</td>\n      <td>NaN</td>\n      <td>0.0</td>\n      <td>0</td>\n      <td>...</td>\n      <td>keypixels</td>\n      <td>NaN</td>\n      <td>NaN</td>\n      <td>NaN</td>\n      <td>0</td>\n      <td>0</td>\n      <td>0</td>\n      <td>0</td>\n      <td>0</td>\n      <td>0</td>\n    </tr>\n    <tr>\n      <th>345666</th>\n      <td>99999</td>\n      <td>pocket-assault</td>\n      <td>Pocket Assault (itch)</td>\n      <td>NaN</td>\n      <td>2015-08-20</td>\n      <td>False</td>\n      <td>2019-01-09T12:41:06</td>\n      <td>NaN</td>\n      <td>0.0</td>\n      <td>0</td>\n      <td>...</td>\n      <td>Carsten_Ostermann</td>\n      <td>Shooter</td>\n      <td>NaN</td>\n      <td>NaN</td>\n      <td>0</td>\n      <td>0</td>\n      <td>0</td>\n      <td>0</td>\n      <td>0</td>\n      <td>0</td>\n    </tr>\n  </tbody>\n</table>\n<p>345667 rows × 27 columns</p>\n</div>"
     },
     "execution_count": 3,
     "metadata": {},
     "output_type": "execute_result"
    }
   ],
   "source": [
    "df1 = pd.read_csv('game_info.csv') # read in the dataset\n",
    "print(\"shape: \", df1.shape) # display dataset information\n",
    "df1.head() # print first few lines of dataset#\n",
    "df1"
   ]
  },
  {
   "cell_type": "markdown",
   "metadata": {
    "pycharm": {
     "name": "#%% md\n"
    }
   },
   "source": [
    "#### Table displaying information for genre:\n",
    "The above dataset information about various video game titles including its publisher and development company. Below we plot this information and display genre frequency. We base this upon the genre count information given in the dataset as well. Based on the data gathered in our dataset it can be determined that we have a sufficient amount of information on the game titles given in order to produce recommendations"
   ]
  },
  {
   "cell_type": "code",
   "execution_count": 4,
   "metadata": {
    "pycharm": {
     "name": "#%%\n"
    }
   },
   "outputs": [
    {
     "data": {
      "text/plain": "<Figure size 1440x1440 with 1 Axes>",
      "image/png": "[encoded data removed]"
     },
     "metadata": {},
     "output_type": "display_data"
    }
   ],
   "source": [
    "# Table dispaying information for genre\n",
    "sns.set(rc={\"figure.figsize\":(20, 20)}) #width = 8, height = 4\n",
    "ax = sns.countplot(x=\"genres\",data=df1)"
   ]
  },
  {
   "cell_type": "markdown",
   "metadata": {
    "pycharm": {
     "name": "#%% md\n"
    }
   },
   "source": [
    "\n",
    "## Second Dataset: [SecondDataset](https://www.kaggle.com/datasets/gregorut/videogamesales)\n",
    "#### Display information about rows and columns in dataset:"
   ]
  },
  {
   "cell_type": "code",
   "execution_count": 5,
   "metadata": {
    "pycharm": {
     "name": "#%%\n"
    }
   },
   "outputs": [
    {
     "name": "stdout",
     "output_type": "stream",
     "text": [
      "shape:  (16598, 11)\n"
     ]
    },
    {
     "data": {
      "text/plain": "   Rank                      Name Platform    Year         Genre Publisher  \\\n0     1                Wii Sports      Wii  2006.0        Sports  Nintendo   \n1     2         Super Mario Bros.      NES  1985.0      Platform  Nintendo   \n2     3            Mario Kart Wii      Wii  2008.0        Racing  Nintendo   \n3     4         Wii Sports Resort      Wii  2009.0        Sports  Nintendo   \n4     5  Pokemon Red/Pokemon Blue       GB  1996.0  Role-Playing  Nintendo   \n\n   NA_Sales  EU_Sales  JP_Sales  Other_Sales  Global_Sales  \n0     41.49     29.02      3.77         8.46         82.74  \n1     29.08      3.58      6.81         0.77         40.24  \n2     15.85     12.88      3.79         3.31         35.82  \n3     15.75     11.01      3.28         2.96         33.00  \n4     11.27      8.89     10.22         1.00         31.37  ",
      "text/html": "<div>\n<style scoped>\n    .dataframe tbody tr th:only-of-type {\n        vertical-align: middle;\n    }\n\n    .dataframe tbody tr th {\n        vertical-align: top;\n    }\n\n    .dataframe thead th {\n        text-align: right;\n    }\n</style>\n<table border=\"1\" class=\"dataframe\">\n  <thead>\n    <tr style=\"text-align: right;\">\n      <th></th>\n      <th>Rank</th>\n      <th>Name</th>\n      <th>Platform</th>\n      <th>Year</th>\n      <th>Genre</th>\n      <th>Publisher</th>\n      <th>NA_Sales</th>\n      <th>EU_Sales</th>\n      <th>JP_Sales</th>\n      <th>Other_Sales</th>\n      <th>Global_Sales</th>\n    </tr>\n  </thead>\n  <tbody>\n    <tr>\n      <th>0</th>\n      <td>1</td>\n      <td>Wii Sports</td>\n      <td>Wii</td>\n      <td>2006.0</td>\n      <td>Sports</td>\n      <td>Nintendo</td>\n      <td>41.49</td>\n      <td>29.02</td>\n      <td>3.77</td>\n      <td>8.46</td>\n      <td>82.74</td>\n    </tr>\n    <tr>\n      <th>1</th>\n      <td>2</td>\n      <td>Super Mario Bros.</td>\n      <td>NES</td>\n      <td>1985.0</td>\n      <td>Platform</td>\n      <td>Nintendo</td>\n      <td>29.08</td>\n      <td>3.58</td>\n      <td>6.81</td>\n      <td>0.77</td>\n      <td>40.24</td>\n    </tr>\n    <tr>\n      <th>2</th>\n      <td>3</td>\n      <td>Mario Kart Wii</td>\n      <td>Wii</td>\n      <td>2008.0</td>\n      <td>Racing</td>\n      <td>Nintendo</td>\n      <td>15.85</td>\n      <td>12.88</td>\n      <td>3.79</td>\n      <td>3.31</td>\n      <td>35.82</td>\n    </tr>\n    <tr>\n      <th>3</th>\n      <td>4</td>\n      <td>Wii Sports Resort</td>\n      <td>Wii</td>\n      <td>2009.0</td>\n      <td>Sports</td>\n      <td>Nintendo</td>\n      <td>15.75</td>\n      <td>11.01</td>\n      <td>3.28</td>\n      <td>2.96</td>\n      <td>33.00</td>\n    </tr>\n    <tr>\n      <th>4</th>\n      <td>5</td>\n      <td>Pokemon Red/Pokemon Blue</td>\n      <td>GB</td>\n      <td>1996.0</td>\n      <td>Role-Playing</td>\n      <td>Nintendo</td>\n      <td>11.27</td>\n      <td>8.89</td>\n      <td>10.22</td>\n      <td>1.00</td>\n      <td>31.37</td>\n    </tr>\n  </tbody>\n</table>\n</div>"
     },
     "execution_count": 5,
     "metadata": {},
     "output_type": "execute_result"
    }
   ],
   "source": [
    "df2 = pd.read_csv('vgsales.csv') # read in the dataset\n",
    "print(\"shape: \",df2.shape) # display dataset information\n",
    "df2.head() # print first few lines of dataset"
   ]
  },
  {
   "cell_type": "markdown",
   "metadata": {
    "pycharm": {
     "name": "#%% md\n"
    }
   },
   "source": [
    "#### Table displaying the information based on genre:\n",
    "The dataset includes information about the number of sales as well as genre of game and platform the game is played on. We will utilize the information about both genre and number of sales, tying the two aspects together in attempt to make connections to make recommendations to users."
   ]
  },
  {
   "cell_type": "code",
   "execution_count": 6,
   "metadata": {
    "pycharm": {
     "name": "#%%\n"
    }
   },
   "outputs": [
    {
     "data": {
      "text/plain": "<Figure size 1440x1440 with 1 Axes>",
      "image/png": "[encoded data removed]"
     },
     "metadata": {},
     "output_type": "display_data"
    }
   ],
   "source": [
    "# Table dispaying information for genre\n",
    "sns.set(rc={\"figure.figsize\":(20, 20)}) #width=8, height=4\n",
    "ax = sns.countplot(x=\"Genre\",data=df2)"
   ]
  },
  {
   "cell_type": "markdown",
   "metadata": {
    "pycharm": {
     "name": "#%% md\n"
    }
   },
   "source": [
    "\n",
    "# **Analysis**\n",
    "\n",
    "The two datasets that we have chosen for our project have both shown sufficient instances and provide viable statistics for a reliable analysis. While one has a larger variety of genres for nuanced analysis. The second data set has the smaller set of data but also a more concise set of genres, making it easier for us to analyze the data based on genre of game. Having some type of filter system for genre is something we wanted to rely heavily upon for our database analysis so having something that has that implemented prior makes it a little easier on us to conceptualize how we want to bring our project together. After having a meeting and coming together to agree upon the direction we want to take our project in - we decided that the main focus of our project is going to be grouping together game titles based upon genre in hopes to establish a target audience. We are hoping with this target audience we will be able to initiate an increase in willingness to try new game titles based upon recommendations based on our anaylsis. Due to the nature of this problem, we see our project being a good example of a \"clustering\" data mining technique."
   ]
  },
  {
   "cell_type": "markdown",
   "metadata": {
    "pycharm": {
     "name": "#%% md\n"
    }
   },
   "source": [
    "## Display Attribute Types for both datasets:"
   ]
  },
  {
   "cell_type": "code",
   "execution_count": 7,
   "metadata": {
    "pycharm": {
     "name": "#%%\n"
    }
   },
   "outputs": [
    {
     "data": {
      "text/plain": "id                        int64\nslug                     object\nname                     object\nmetacritic              float64\nreleased                 object\ntba                        bool\nupdated                  object\nwebsite                  object\nrating                  float64\nrating_top                int64\nplaytime                  int64\nachievements_count        int64\nratings_count             int64\nsuggestions_count         int64\ngame_series_count         int64\nreviews_count             int64\nplatforms                object\ndevelopers               object\ngenres                   object\npublishers               object\nesrb_rating              object\nadded_status_yet          int64\nadded_status_owned        int64\nadded_status_beaten       int64\nadded_status_toplay       int64\nadded_status_dropped      int64\nadded_status_playing      int64\ndtype: object"
     },
     "execution_count": 7,
     "metadata": {},
     "output_type": "execute_result"
    }
   ],
   "source": [
    "# Display datatypes for all columns of first database\n",
    "df1.dtypes"
   ]
  },
  {
   "cell_type": "code",
   "execution_count": 8,
   "metadata": {
    "pycharm": {
     "name": "#%%\n"
    }
   },
   "outputs": [
    {
     "data": {
      "text/plain": "Rank              int64\nName             object\nPlatform         object\nYear            float64\nGenre            object\nPublisher        object\nNA_Sales        float64\nEU_Sales        float64\nJP_Sales        float64\nOther_Sales     float64\nGlobal_Sales    float64\ndtype: object"
     },
     "execution_count": 8,
     "metadata": {},
     "output_type": "execute_result"
    }
   ],
   "source": [
    "# Display datatypes for all columns of second database\n",
    "df2.dtypes"
   ]
  },
  {
   "cell_type": "markdown",
   "metadata": {
    "pycharm": {
     "name": "#%% md\n"
    }
   },
   "source": [
    "## Display data ranges for both datasets:\n",
    "Data Ranges for dataset2:"
   ]
  },
  {
   "cell_type": "code",
   "execution_count": 9,
   "metadata": {
    "pycharm": {
     "name": "#%%\n"
    }
   },
   "outputs": [
    {
     "name": "stdout",
     "output_type": "stream",
     "text": [
      "\n",
      "Minimum Value in NA_Sales: 0.0\n",
      "Maximum Value in NA_Sales: 82.74\n",
      "\n",
      "Minimum Value in EU_Sales: 0.0\n",
      "Maximum Value in EU_Sales: 82.74\n",
      "\n",
      "Minimum Value in JP_Sales: 0.0\n",
      "Maximum Value in JP_Sales: 82.74\n",
      "\n",
      "Minimum Value in Other_Sales: 0.0\n",
      "Maximum Value in Other_Sales: 82.74\n",
      "\n",
      "Minimum Value in Global_Sales: 0.01\n",
      "Maximum Value in Global_Sales: 82.74\n"
     ]
    }
   ],
   "source": [
    "# minimum value for NA_Sales in dataset2\n",
    "minNA = df2['NA_Sales'].min() # min value for Global_Sales in df2\n",
    "maxNA = df2['Global_Sales'].max() # max value for Global_Sales in df2\n",
    "print('\\nMinimum Value in NA_Sales:', minNA)\n",
    "print('Maximum Value in NA_Sales:', maxNA)\n",
    "\n",
    "# minimum value for EU_Sales in dataset2\n",
    "minEU = df2['EU_Sales'].min() # min value for Global_Sales in df2\n",
    "maxEU = df2['Global_Sales'].max() # max value for Global_Sales in df2\n",
    "print('\\nMinimum Value in EU_Sales:', minEU)\n",
    "print('Maximum Value in EU_Sales:', maxEU)\n",
    "\n",
    "# minimum value for JP_Sales in dataset2\n",
    "minJP = df2['JP_Sales'].min() # min value for Global_Sales in df2\n",
    "maxJP = df2['Global_Sales'].max() # max value for Global_Sales in df2\n",
    "print('\\nMinimum Value in JP_Sales:', minJP)\n",
    "print('Maximum Value in JP_Sales:', maxJP)\n",
    "\n",
    "# minimum value for Other_Sales in dataset2\n",
    "minOther = df2['Other_Sales'].min() # min value for Global_Sales in df2\n",
    "maxOther = df2['Global_Sales'].max() # max value for Global_Sales in df2\n",
    "print('\\nMinimum Value in Other_Sales:', minOther)\n",
    "print('Maximum Value in Other_Sales:', maxOther)\n",
    "\n",
    "# minimum value for Global_Sales in dataset2\n",
    "minGlobal = df2['Global_Sales'].min() # min value for Global_Sales in df2\n",
    "maxGlobal = df2['Global_Sales'].max() # max value for Global_Sales in df2\n",
    "print('\\nMinimum Value in Global_Sales:', minGlobal)\n",
    "print('Maximum Value in Global_Sales:', maxGlobal)"
   ]
  },
  {
   "cell_type": "code",
   "execution_count": 10,
   "metadata": {
    "pycharm": {
     "name": "#%%\n"
    }
   },
   "outputs": [
    {
     "data": {
      "text/plain": "id                      False\nslug                     True\nname                     True\nmetacritic               True\nreleased                 True\ntba                     False\nupdated                 False\nwebsite                  True\nrating                  False\nrating_top              False\nplaytime                False\nachievements_count      False\nratings_count           False\nsuggestions_count       False\ngame_series_count       False\nreviews_count           False\nplatforms                True\ndevelopers               True\ngenres                   True\npublishers               True\nesrb_rating              True\nadded_status_yet        False\nadded_status_owned      False\nadded_status_beaten     False\nadded_status_toplay     False\nadded_status_dropped    False\nadded_status_playing    False\ndtype: bool"
     },
     "execution_count": 10,
     "metadata": {},
     "output_type": "execute_result"
    }
   ],
   "source": [
    "# generates a boolean array (True = column has missing value, False = otherwise)\n",
    "# determine what columns have missing values in dataset1\n",
    "df1.isnull().any()"
   ]
  },
  {
   "cell_type": "code",
   "execution_count": 11,
   "metadata": {
    "pycharm": {
     "name": "#%%\n"
    }
   },
   "outputs": [
    {
     "data": {
      "text/plain": "Rank            False\nName            False\nPlatform        False\nYear             True\nGenre           False\nPublisher        True\nNA_Sales        False\nEU_Sales        False\nJP_Sales        False\nOther_Sales     False\nGlobal_Sales    False\ndtype: bool"
     },
     "execution_count": 11,
     "metadata": {},
     "output_type": "execute_result"
    }
   ],
   "source": [
    "# generates a boolean array (True = column has missing value, False = otherwise)\n",
    "# determine what columns have missing values in dataset1\n",
    "df2.isnull().any()"
   ]
  },
  {
   "cell_type": "markdown",
   "metadata": {
    "pycharm": {
     "name": "#%% md\n"
    }
   },
   "source": [
    "//## Determine the outliers for the datasets:"
   ]
  },
  {
   "cell_type": "markdown",
   "metadata": {
    "pycharm": {
     "name": "#%% md\n"
    }
   },
   "source": [
    "---\n",
    "\n",
    "## Apriori Analysis\n",
    "This is where we will use the Apriori algorithm in order to better support our analysis. The Apriori method allows us to find frequent itemsets within our data for a boolean association rule. We found that completing this analysis would be easier and produce better / more reliable results if we used it on our second dataset (df2)."
   ]
  },
  {
   "cell_type": "code",
   "execution_count": 19,
   "metadata": {
    "pycharm": {
     "name": "#%%\n"
    }
   },
   "outputs": [],
   "source": [
    "# importing libraries\n",
    "import numpy as np\n",
    "import matplotlib.pyplot as plt\n",
    "import pandas as pd"
   ]
  },
  {
   "cell_type": "code",
   "execution_count": 59,
   "metadata": {
    "pycharm": {
     "name": "#%%\n"
    }
   },
   "outputs": [
    {
     "data": {
      "text/plain": "        Rank                                              Name Platform  \\\n0          1                                        Wii Sports      Wii   \n1          2                                 Super Mario Bros.      NES   \n2          3                                    Mario Kart Wii      Wii   \n3          4                                 Wii Sports Resort      Wii   \n4          5                          Pokemon Red/Pokemon Blue       GB   \n...      ...                                               ...      ...   \n16593  16596                Woody Woodpecker in Crazy Castle 5      GBA   \n16594  16597                     Men in Black II: Alien Escape       GC   \n16595  16598  SCORE International Baja 1000: The Official Game      PS2   \n16596  16599                                        Know How 2       DS   \n16597  16600                                  Spirits & Spells      GBA   \n\n         Year         Genre   Publisher  NA_Sales  EU_Sales  JP_Sales  \\\n0      2006.0        Sports    Nintendo     41.49     29.02      3.77   \n1      1985.0      Platform    Nintendo     29.08      3.58      6.81   \n2      2008.0        Racing    Nintendo     15.85     12.88      3.79   \n3      2009.0        Sports    Nintendo     15.75     11.01      3.28   \n4      1996.0  Role-Playing    Nintendo     11.27      8.89     10.22   \n...       ...           ...         ...       ...       ...       ...   \n16593  2002.0      Platform       Kemco      0.01      0.00      0.00   \n16594  2003.0       Shooter  Infogrames      0.01      0.00      0.00   \n16595  2008.0        Racing  Activision      0.00      0.00      0.00   \n16596  2010.0        Puzzle    7G//AMES      0.00      0.01      0.00   \n16597  2003.0      Platform     Wanadoo      0.01      0.00      0.00   \n\n       Other_Sales  Global_Sales  \n0             8.46         82.74  \n1             0.77         40.24  \n2             3.31         35.82  \n3             2.96         33.00  \n4             1.00         31.37  \n...            ...           ...  \n16593         0.00          0.01  \n16594         0.00          0.01  \n16595         0.00          0.01  \n16596         0.00          0.01  \n16597         0.00          0.01  \n\n[16291 rows x 11 columns]",
      "text/html": "<div>\n<style scoped>\n    .dataframe tbody tr th:only-of-type {\n        vertical-align: middle;\n    }\n\n    .dataframe tbody tr th {\n        vertical-align: top;\n    }\n\n    .dataframe thead th {\n        text-align: right;\n    }\n</style>\n<table border=\"1\" class=\"dataframe\">\n  <thead>\n    <tr style=\"text-align: right;\">\n      <th></th>\n      <th>Rank</th>\n      <th>Name</th>\n      <th>Platform</th>\n      <th>Year</th>\n      <th>Genre</th>\n      <th>Publisher</th>\n      <th>NA_Sales</th>\n      <th>EU_Sales</th>\n      <th>JP_Sales</th>\n      <th>Other_Sales</th>\n      <th>Global_Sales</th>\n    </tr>\n  </thead>\n  <tbody>\n    <tr>\n      <th>0</th>\n      <td>1</td>\n      <td>Wii Sports</td>\n      <td>Wii</td>\n      <td>2006.0</td>\n      <td>Sports</td>\n      <td>Nintendo</td>\n      <td>41.49</td>\n      <td>29.02</td>\n      <td>3.77</td>\n      <td>8.46</td>\n      <td>82.74</td>\n    </tr>\n    <tr>\n      <th>1</th>\n      <td>2</td>\n      <td>Super Mario Bros.</td>\n      <td>NES</td>\n      <td>1985.0</td>\n      <td>Platform</td>\n      <td>Nintendo</td>\n      <td>29.08</td>\n      <td>3.58</td>\n      <td>6.81</td>\n      <td>0.77</td>\n      <td>40.24</td>\n    </tr>\n    <tr>\n      <th>2</th>\n      <td>3</td>\n      <td>Mario Kart Wii</td>\n      <td>Wii</td>\n      <td>2008.0</td>\n      <td>Racing</td>\n      <td>Nintendo</td>\n      <td>15.85</td>\n      <td>12.88</td>\n      <td>3.79</td>\n      <td>3.31</td>\n      <td>35.82</td>\n    </tr>\n    <tr>\n      <th>3</th>\n      <td>4</td>\n      <td>Wii Sports Resort</td>\n      <td>Wii</td>\n      <td>2009.0</td>\n      <td>Sports</td>\n      <td>Nintendo</td>\n      <td>15.75</td>\n      <td>11.01</td>\n      <td>3.28</td>\n      <td>2.96</td>\n      <td>33.00</td>\n    </tr>\n    <tr>\n      <th>4</th>\n      <td>5</td>\n      <td>Pokemon Red/Pokemon Blue</td>\n      <td>GB</td>\n      <td>1996.0</td>\n      <td>Role-Playing</td>\n      <td>Nintendo</td>\n      <td>11.27</td>\n      <td>8.89</td>\n      <td>10.22</td>\n      <td>1.00</td>\n      <td>31.37</td>\n    </tr>\n    <tr>\n      <th>...</th>\n      <td>...</td>\n      <td>...</td>\n      <td>...</td>\n      <td>...</td>\n      <td>...</td>\n      <td>...</td>\n      <td>...</td>\n      <td>...</td>\n      <td>...</td>\n      <td>...</td>\n      <td>...</td>\n    </tr>\n    <tr>\n      <th>16593</th>\n      <td>16596</td>\n      <td>Woody Woodpecker in Crazy Castle 5</td>\n      <td>GBA</td>\n      <td>2002.0</td>\n      <td>Platform</td>\n      <td>Kemco</td>\n      <td>0.01</td>\n      <td>0.00</td>\n      <td>0.00</td>\n      <td>0.00</td>\n      <td>0.01</td>\n    </tr>\n    <tr>\n      <th>16594</th>\n      <td>16597</td>\n      <td>Men in Black II: Alien Escape</td>\n      <td>GC</td>\n      <td>2003.0</td>\n      <td>Shooter</td>\n      <td>Infogrames</td>\n      <td>0.01</td>\n      <td>0.00</td>\n      <td>0.00</td>\n      <td>0.00</td>\n      <td>0.01</td>\n    </tr>\n    <tr>\n      <th>16595</th>\n      <td>16598</td>\n      <td>SCORE International Baja 1000: The Official Game</td>\n      <td>PS2</td>\n      <td>2008.0</td>\n      <td>Racing</td>\n      <td>Activision</td>\n      <td>0.00</td>\n      <td>0.00</td>\n      <td>0.00</td>\n      <td>0.00</td>\n      <td>0.01</td>\n    </tr>\n    <tr>\n      <th>16596</th>\n      <td>16599</td>\n      <td>Know How 2</td>\n      <td>DS</td>\n      <td>2010.0</td>\n      <td>Puzzle</td>\n      <td>7G//AMES</td>\n      <td>0.00</td>\n      <td>0.01</td>\n      <td>0.00</td>\n      <td>0.00</td>\n      <td>0.01</td>\n    </tr>\n    <tr>\n      <th>16597</th>\n      <td>16600</td>\n      <td>Spirits &amp; Spells</td>\n      <td>GBA</td>\n      <td>2003.0</td>\n      <td>Platform</td>\n      <td>Wanadoo</td>\n      <td>0.01</td>\n      <td>0.00</td>\n      <td>0.00</td>\n      <td>0.00</td>\n      <td>0.01</td>\n    </tr>\n  </tbody>\n</table>\n<p>16291 rows × 11 columns</p>\n</div>"
     },
     "execution_count": 59,
     "metadata": {},
     "output_type": "execute_result"
    }
   ],
   "source": [
    "# display datasets again\n",
    "df2"
   ]
  },
  {
   "cell_type": "code",
   "execution_count": 21,
   "metadata": {
    "pycharm": {
     "name": "#%%\n"
    }
   },
   "outputs": [
    {
     "data": {
      "text/plain": "Index(['Rank', 'Name', 'Platform', 'Year', 'Genre', 'Publisher', 'NA_Sales',\n       'EU_Sales', 'JP_Sales', 'Other_Sales', 'Global_Sales'],\n      dtype='object')"
     },
     "execution_count": 21,
     "metadata": {},
     "output_type": "execute_result"
    }
   ],
   "source": [
    "# display all column names\n",
    "df2.columns"
   ]
  },
  {
   "cell_type": "code",
   "execution_count": 49,
   "outputs": [
    {
     "data": {
      "text/plain": "array(['Nintendo', 'Microsoft Game Studios', 'Take-Two Interactive',\n       'Sony Computer Entertainment', 'Activision', 'Ubisoft',\n       'Bethesda Softworks', 'Electronic Arts', 'Sega', 'SquareSoft',\n       'Atari', '505 Games', 'Capcom', 'GT Interactive',\n       'Konami Digital Entertainment',\n       'Sony Computer Entertainment Europe', 'Square Enix', 'LucasArts',\n       'Virgin Interactive', 'Warner Bros. Interactive Entertainment',\n       'Universal Interactive', 'Eidos Interactive', 'RedOctane',\n       'Vivendi Games', 'Enix Corporation', 'Namco Bandai Games',\n       'Palcom', 'Hasbro Interactive', 'THQ', 'Fox Interactive',\n       'Acclaim Entertainment', 'MTV Games', 'Disney Interactive Studios',\n       'Majesco Entertainment', 'Codemasters', 'Red Orb', 'Level 5',\n       'Arena Entertainment', 'Midway Games', 'JVC', 'Deep Silver',\n       '989 Studios', 'NCSoft', 'UEP Systems', 'Parker Bros.', 'Maxis',\n       'Imagic', 'Tecmo Koei', 'Valve Software', 'ASCII Entertainment',\n       'Mindscape', 'Infogrames', 'Unknown', 'Square', 'Valve',\n       'Activision Value', 'Banpresto', 'D3Publisher',\n       'Oxygen Interactive', 'Red Storm Entertainment', 'Video System',\n       'Hello Games', 'Global Star', 'Gotham Games', 'Westwood Studios',\n       'GungHo', 'Crave Entertainment', 'Hudson Soft', 'Coleco',\n       'Rising Star Games', 'Atlus', 'TDK Mediactive', 'ASC Games',\n       'Zoo Games', 'Accolade', 'Sony Online Entertainment', '3DO', 'RTL',\n       'Natsume', 'Focus Home Interactive', 'Alchemist',\n       'Black Label Games', 'SouthPeak Games', 'Mastertronic', 'Ocean',\n       'Zoo Digital Publishing', 'Psygnosis', 'City Interactive',\n       'Empire Interactive', 'Success', 'Compile', 'Russel', 'Taito',\n       'Agetec', 'GSP', 'Microprose', 'Play It', 'Slightly Mad Studios',\n       'Tomy Corporation', 'Sammy Corporation', 'Koch Media',\n       'Game Factory', 'Titus', 'Marvelous Entertainment', 'Genki',\n       'Mojang', 'Pinnacle', 'CTO SpA', 'TalonSoft', 'Crystal Dynamics',\n       'SCi', 'Quelle', 'mixi, Inc', 'Rage Software', 'Ubisoft Annecy',\n       'Scholastic Inc.', 'Interplay', 'Mystique', 'ChunSoft',\n       'Square EA', '20th Century Fox Video Games', 'Avanquest Software',\n       'Hudson Entertainment', 'Nordic Games', 'Men-A-Vision', 'Nobilis',\n       'Big Ben Interactive', 'Touchstone', 'Spike', 'Jester Interactive',\n       'Nippon Ichi Software', 'LEGO Media', 'Quest',\n       'Illusion Softworks', 'Tigervision', 'Funbox Media',\n       'Rocket Company', 'Metro 3D', 'Mattel Interactive', 'IE Institute',\n       'Rondomedia', 'Sony Computer Entertainment America',\n       'Universal Gamex', 'Ghostlight', 'Wizard Video Games',\n       'BMG Interactive Entertainment', 'PQube', 'Trion Worlds', 'Laguna',\n       'Ignition Entertainment', 'Takara', 'Kadokawa Shoten', 'Destineer',\n       'Enterbrain', 'Xseed Games', 'Imagineer',\n       'System 3 Arcade Software', 'CPG Products', 'Aruze Corp',\n       'Gamebridge', 'Midas Interactive Entertainment', 'Jaleco',\n       'Answer Software', 'XS Games', 'Activision Blizzard',\n       'Pack In Soft', 'Rebellion', 'Xplosiv', 'GameMill Entertainment',\n       'Wanadoo', 'NovaLogic', 'Telltale Games', 'Epoch',\n       'BAM! Entertainment', 'Knowledge Adventure', 'Mastiff',\n       'Tetris Online', 'Harmonix Music Systems', 'ESP', 'TYO',\n       'Telegames', 'Mud Duck Productions', 'Screenlife', 'Pioneer LDC',\n       'Magical Company', 'Mentor Interactive', 'Kemco',\n       'Human Entertainment', 'Avanquest', 'Data Age',\n       'Electronic Arts Victor', 'Black Bean Games', 'Jack of All Games',\n       '989 Sports', 'Takara Tomy', 'Media Rings', 'Elf', 'Starfish',\n       'Zushi Games', 'Jorudan', 'Destination Software, Inc', 'New',\n       'Brash Entertainment', 'ITT Family Games', 'PopCap Games',\n       'Home Entertainment Suppliers', 'Ackkstudios', 'Starpath Corp.',\n       'P2 Games', 'BPS', 'Gathering of Developers', 'NewKidCo',\n       'Storm City Games', 'CokeM Interactive', 'CBS Electronics',\n       'Magix', 'Marvelous Interactive', 'Kalypso Media',\n       'Nihon Falcom Corporation', 'Wargaming.net', 'Angel Studios',\n       'Arc System Works', 'Playmates', 'SNK Playmore',\n       'Hamster Corporation', 'From Software', 'Nippon Columbia',\n       'Nichibutsu', 'Little Orbit', 'Conspiracy Entertainment',\n       'DTP Entertainment', 'Hect', 'Mumbo Jumbo',\n       'Pacific Century Cyber Works', 'Indie Games', 'Liquid Games',\n       'NEC', 'Axela', 'ArtDink', 'Sunsoft', 'Gust', 'SNK',\n       'NEC Interchannel', 'FuRyu', 'Xing Entertainment', 'ValuSoft',\n       'Victor Interactive', 'Detn8 Games', 'American Softworks',\n       'Nordcurrent', 'Bomb', 'Falcom Corporation', 'AQ Interactive',\n       'CCP', 'Milestone S.r.l.', 'JoWood Productions',\n       'Seta Corporation', 'On Demand', 'NCS', 'Aspyr',\n       'Gremlin Interactive Ltd', 'Agatsuma Entertainment',\n       'Compile Heart', 'Culture Brain', 'Mad Catz', 'Shogakukan',\n       'Merscom LLC', 'Rebellion Developments', 'Nippon Telenet',\n       'TDK Core', 'bitComposer Games', 'Foreign Media Games', 'Astragon',\n       'SSI', 'Kadokawa Games', 'Idea Factory',\n       'Performance Designed Products', 'Asylum Entertainment',\n       'Core Design Ltd.', 'PlayV', 'UFO Interactive',\n       'Idea Factory International', 'Playlogic Game Factory',\n       'Essential Games', 'Adeline Software', 'Funcom',\n       'Panther Software', 'Blast! Entertainment Ltd', 'Game Life',\n       'DSI Games', 'Avalon Interactive', 'Popcorn Arcade',\n       'Neko Entertainment', 'Vir2L Studios', 'Aques', 'Syscom',\n       'White Park Bay Software', 'System 3', 'Vatical Entertainment',\n       'Daedalic', 'EA Games', 'Media Factory', 'Vic Tokai',\n       'The Adventure Company', 'Game Arts', 'Broccoli', 'Acquire',\n       'General Entertainment', 'Excalibur Publishing', 'Imadio',\n       'Swing! Entertainment', 'Sony Music Entertainment', 'Aqua Plus',\n       'Paradox Interactive', 'Hip Interactive',\n       'DreamCatcher Interactive', 'Tripwire Interactive', 'Sting',\n       'Yacht Club Games', 'SCS Software', 'Bigben Interactive',\n       'Havas Interactive', 'Slitherine Software', 'Graffiti', 'Funsta',\n       'Telstar', 'U.S. Gold', 'DreamWorks Interactive',\n       'Data Design Interactive', 'MTO', 'DHM Interactive', 'FunSoft',\n       'SPS', 'Bohemia Interactive', 'Reef Entertainment',\n       'Tru Blu Entertainment', 'Moss', 'T&E Soft', 'O-Games',\n       'Aksys Games', 'NDA Productions', 'Data East',\n       'Time Warner Interactive', 'Gainax Network Systems', 'Daito',\n       'O3 Entertainment', 'Gameloft', 'Xicat Interactive',\n       'Simon & Schuster Interactive', 'Valcon Games', 'PopTop Software',\n       'TOHO', 'HMH Interactive', '5pb', 'Cave',\n       'CDV Software Entertainment', 'Microids', 'PM Studios', 'Paon',\n       'Micro Cabin', 'GameTek', 'Benesse', 'Type-Moon',\n       'Enjoy Gaming ltd.', 'Asmik Corp', 'Interplay Productions',\n       'Asmik Ace Entertainment', 'inXile Entertainment', 'Image Epoch',\n       'Phantom EFX', 'Evolved Games', 'responDESIGN',\n       'Culture Publishers', 'Griffin International', 'Hackberry',\n       'Hearty Robin', 'Nippon Amuse', 'Origin Systems', 'Seventh Chord',\n       'Mitsui', 'Milestone', 'Abylight', 'Flight-Plan', 'Glams', 'Locus',\n       'Warp', 'Daedalic Entertainment', 'Alternative Software',\n       'Myelin Media', 'Mercury Games', 'Irem Software Engineering',\n       'Sunrise Interactive', 'Elite', 'Evolution Games', 'Tivola',\n       'Global A Entertainment', 'Edia', 'Athena', 'Aria', 'Gamecock',\n       'Tommo', 'Altron', 'Happinet', 'iWin', 'Media Works', 'Fortyfive',\n       'Revolution Software', 'Imax', 'Crimson Cow', '10TACLE Studios',\n       'Groove Games', 'Pack-In-Video', 'Insomniac Games',\n       'Ascaron Entertainment GmbH', 'Asgard', 'Ecole', 'Yumedia',\n       'Phenomedia', 'HAL Laboratory', 'Grand Prix Games', 'DigiCube',\n       'Creative Core', 'Kaga Create', 'WayForward Technologies',\n       'LSP Games', 'ASCII Media Works', 'Coconuts Japan', 'Arika',\n       'Ertain', 'Marvel Entertainment', 'Prototype', 'Phantagram',\n       '1C Company', 'The Learning Company', 'TechnoSoft', 'Vap',\n       'Misawa', 'Tradewest', 'Team17 Software', 'Yeti', 'Pow',\n       'Navarre Corp', 'MediaQuest', 'Max Five', 'Comfort',\n       'Monte Christo Multimedia', 'Pony Canyon', 'Riverhillsoft',\n       'Summitsoft', 'Milestone S.r.l', 'Playmore', 'MLB.com',\n       'Kool Kizz', 'Flashpoint Games', '49Games', 'Legacy Interactive',\n       'Alawar Entertainment', 'CyberFront',\n       'Cloud Imperium Games Corporation', 'Societa',\n       'Virtual Play Games', 'Interchannel', 'Sonnet', 'Experience Inc.',\n       'Zenrin', 'Iceberg Interactive', 'Ivolgamus', '2D Boy',\n       'MC2 Entertainment', 'Kando Games', 'Just Flight', 'Office Create',\n       'Mamba Games', 'Fields', 'Princess Soft', 'Maximum Family Games',\n       'Berkeley', 'Fuji', 'Dusenberry Martin Racing', 'imageepoch Inc.',\n       'Big Fish Games', 'Her Interactive', 'Kamui', 'ASK',\n       'TopWare Interactive', 'Headup Games', 'KSS', 'Cygames', 'KID',\n       'Quinrose', 'Sunflowers', 'dramatic create', 'TGL', 'Encore',\n       'Extreme Entertainment Group', 'Intergrow', 'G.Rev', 'Sweets',\n       'Kokopeli Digital Studios', 'Number None', 'Nexon', 'id Software',\n       'BushiRoad', 'Tryfirst', 'Strategy First', '7G//AMES',\n       'GN Software', \"Yuke's\", 'Easy Interactive', 'Licensed 4U',\n       'FuRyu Corporation', 'Lexicon Entertainment', 'Paon Corporation',\n       'Kids Station', 'GOA', 'Graphsim Entertainment', 'King Records',\n       'Introversion Software', 'Minato Station', 'Devolver Digital',\n       'Blue Byte', 'Gaga', 'Yamasa Entertainment', 'Plenty', 'Views',\n       'fonfun', 'NetRevo', 'Codemasters Online', 'Quintet',\n       'Phoenix Games', 'Dorart', 'Marvelous Games', 'Focus Multimedia',\n       'Imageworks', 'Karin Entertainment', 'Aerosoft',\n       'Technos Japan Corporation', 'Gakken', 'Mirai Shounen',\n       'Datam Polystar', 'Saurus', 'HuneX', 'Revolution (Japan)',\n       'Giza10', 'Visco', 'Alvion', 'Mycom', 'Giga', 'Warashi',\n       'System Soft', 'Sold Out', 'Lighthouse Interactive',\n       'Masque Publishing', 'RED Entertainment', 'Michaelsoft',\n       'Media Entertainment', 'New World Computing', 'Genterprise',\n       'Interworks Unlimited, Inc.', 'Boost On', 'Stainless Games',\n       'EON Digital Entertainment', 'Epic Games', 'Naxat Soft',\n       'Ascaron Entertainment', 'Piacci', 'Nitroplus',\n       'Paradox Development', 'Otomate', 'Ongakukan', 'Commseed',\n       'Inti Creates', 'Takuyo', 'Interchannel-Holon', 'Rain Games',\n       'UIG Entertainment'], dtype=object)"
     },
     "execution_count": 49,
     "metadata": {},
     "output_type": "execute_result"
    }
   ],
   "source": [
    "# exploring all different publishers in the dataset\n",
    "df2.Publisher.unique()"
   ],
   "metadata": {
    "collapsed": false,
    "pycharm": {
     "name": "#%%\n"
    }
   }
  },
  {
   "cell_type": "code",
   "execution_count": 50,
   "outputs": [
    {
     "data": {
      "text/plain": "        Rank                                              Name Platform  \\\n0          1                                        Wii Sports      Wii   \n1          2                                 Super Mario Bros.      NES   \n2          3                                    Mario Kart Wii      Wii   \n3          4                                 Wii Sports Resort      Wii   \n4          5                          Pokemon Red/Pokemon Blue       GB   \n...      ...                                               ...      ...   \n16593  16596                Woody Woodpecker in Crazy Castle 5      GBA   \n16594  16597                     Men in Black II: Alien Escape       GC   \n16595  16598  SCORE International Baja 1000: The Official Game      PS2   \n16596  16599                                        Know How 2       DS   \n16597  16600                                  Spirits & Spells      GBA   \n\n         Year         Genre   Publisher  NA_Sales  EU_Sales  JP_Sales  \\\n0      2006.0        Sports    Nintendo     41.49     29.02      3.77   \n1      1985.0      Platform    Nintendo     29.08      3.58      6.81   \n2      2008.0        Racing    Nintendo     15.85     12.88      3.79   \n3      2009.0        Sports    Nintendo     15.75     11.01      3.28   \n4      1996.0  Role-Playing    Nintendo     11.27      8.89     10.22   \n...       ...           ...         ...       ...       ...       ...   \n16593  2002.0      Platform       Kemco      0.01      0.00      0.00   \n16594  2003.0       Shooter  Infogrames      0.01      0.00      0.00   \n16595  2008.0        Racing  Activision      0.00      0.00      0.00   \n16596  2010.0        Puzzle    7G//AMES      0.00      0.01      0.00   \n16597  2003.0      Platform     Wanadoo      0.01      0.00      0.00   \n\n       Other_Sales  Global_Sales  \n0             8.46         82.74  \n1             0.77         40.24  \n2             3.31         35.82  \n3             2.96         33.00  \n4             1.00         31.37  \n...            ...           ...  \n16593         0.00          0.01  \n16594         0.00          0.01  \n16595         0.00          0.01  \n16596         0.00          0.01  \n16597         0.00          0.01  \n\n[16291 rows x 11 columns]",
      "text/html": "<div>\n<style scoped>\n    .dataframe tbody tr th:only-of-type {\n        vertical-align: middle;\n    }\n\n    .dataframe tbody tr th {\n        vertical-align: top;\n    }\n\n    .dataframe thead th {\n        text-align: right;\n    }\n</style>\n<table border=\"1\" class=\"dataframe\">\n  <thead>\n    <tr style=\"text-align: right;\">\n      <th></th>\n      <th>Rank</th>\n      <th>Name</th>\n      <th>Platform</th>\n      <th>Year</th>\n      <th>Genre</th>\n      <th>Publisher</th>\n      <th>NA_Sales</th>\n      <th>EU_Sales</th>\n      <th>JP_Sales</th>\n      <th>Other_Sales</th>\n      <th>Global_Sales</th>\n    </tr>\n  </thead>\n  <tbody>\n    <tr>\n      <th>0</th>\n      <td>1</td>\n      <td>Wii Sports</td>\n      <td>Wii</td>\n      <td>2006.0</td>\n      <td>Sports</td>\n      <td>Nintendo</td>\n      <td>41.49</td>\n      <td>29.02</td>\n      <td>3.77</td>\n      <td>8.46</td>\n      <td>82.74</td>\n    </tr>\n    <tr>\n      <th>1</th>\n      <td>2</td>\n      <td>Super Mario Bros.</td>\n      <td>NES</td>\n      <td>1985.0</td>\n      <td>Platform</td>\n      <td>Nintendo</td>\n      <td>29.08</td>\n      <td>3.58</td>\n      <td>6.81</td>\n      <td>0.77</td>\n      <td>40.24</td>\n    </tr>\n    <tr>\n      <th>2</th>\n      <td>3</td>\n      <td>Mario Kart Wii</td>\n      <td>Wii</td>\n      <td>2008.0</td>\n      <td>Racing</td>\n      <td>Nintendo</td>\n      <td>15.85</td>\n      <td>12.88</td>\n      <td>3.79</td>\n      <td>3.31</td>\n      <td>35.82</td>\n    </tr>\n    <tr>\n      <th>3</th>\n      <td>4</td>\n      <td>Wii Sports Resort</td>\n      <td>Wii</td>\n      <td>2009.0</td>\n      <td>Sports</td>\n      <td>Nintendo</td>\n      <td>15.75</td>\n      <td>11.01</td>\n      <td>3.28</td>\n      <td>2.96</td>\n      <td>33.00</td>\n    </tr>\n    <tr>\n      <th>4</th>\n      <td>5</td>\n      <td>Pokemon Red/Pokemon Blue</td>\n      <td>GB</td>\n      <td>1996.0</td>\n      <td>Role-Playing</td>\n      <td>Nintendo</td>\n      <td>11.27</td>\n      <td>8.89</td>\n      <td>10.22</td>\n      <td>1.00</td>\n      <td>31.37</td>\n    </tr>\n    <tr>\n      <th>...</th>\n      <td>...</td>\n      <td>...</td>\n      <td>...</td>\n      <td>...</td>\n      <td>...</td>\n      <td>...</td>\n      <td>...</td>\n      <td>...</td>\n      <td>...</td>\n      <td>...</td>\n      <td>...</td>\n    </tr>\n    <tr>\n      <th>16593</th>\n      <td>16596</td>\n      <td>Woody Woodpecker in Crazy Castle 5</td>\n      <td>GBA</td>\n      <td>2002.0</td>\n      <td>Platform</td>\n      <td>Kemco</td>\n      <td>0.01</td>\n      <td>0.00</td>\n      <td>0.00</td>\n      <td>0.00</td>\n      <td>0.01</td>\n    </tr>\n    <tr>\n      <th>16594</th>\n      <td>16597</td>\n      <td>Men in Black II: Alien Escape</td>\n      <td>GC</td>\n      <td>2003.0</td>\n      <td>Shooter</td>\n      <td>Infogrames</td>\n      <td>0.01</td>\n      <td>0.00</td>\n      <td>0.00</td>\n      <td>0.00</td>\n      <td>0.01</td>\n    </tr>\n    <tr>\n      <th>16595</th>\n      <td>16598</td>\n      <td>SCORE International Baja 1000: The Official Game</td>\n      <td>PS2</td>\n      <td>2008.0</td>\n      <td>Racing</td>\n      <td>Activision</td>\n      <td>0.00</td>\n      <td>0.00</td>\n      <td>0.00</td>\n      <td>0.00</td>\n      <td>0.01</td>\n    </tr>\n    <tr>\n      <th>16596</th>\n      <td>16599</td>\n      <td>Know How 2</td>\n      <td>DS</td>\n      <td>2010.0</td>\n      <td>Puzzle</td>\n      <td>7G//AMES</td>\n      <td>0.00</td>\n      <td>0.01</td>\n      <td>0.00</td>\n      <td>0.00</td>\n      <td>0.01</td>\n    </tr>\n    <tr>\n      <th>16597</th>\n      <td>16600</td>\n      <td>Spirits &amp; Spells</td>\n      <td>GBA</td>\n      <td>2003.0</td>\n      <td>Platform</td>\n      <td>Wanadoo</td>\n      <td>0.01</td>\n      <td>0.00</td>\n      <td>0.00</td>\n      <td>0.00</td>\n      <td>0.01</td>\n    </tr>\n  </tbody>\n</table>\n<p>16291 rows × 11 columns</p>\n</div>"
     },
     "execution_count": 50,
     "metadata": {},
     "output_type": "execute_result"
    }
   ],
   "source": [
    "# drop all rows that are missing values for publishers and sales\n",
    "df2.dropna(axis=0, subset=['Publisher'], inplace=True)\n",
    "df2"
   ],
   "metadata": {
    "collapsed": false,
    "pycharm": {
     "name": "#%%\n"
    }
   }
  },
  {
   "cell_type": "code",
   "execution_count": 62,
   "outputs": [
    {
     "name": "stdout",
     "output_type": "stream",
     "text": [
      "['Rank', 'Name', 'Platform', 'Year', 'Genre', 'Publisher', 'NA_Sales', 'EU_Sales', 'JP_Sales', 'Other_Sales', 'Global_Sales']\n"
     ]
    }
   ],
   "source": [
    "# to make sure the first row is not thought of as the heading\n",
    "cleanedData = pd.read_csv('vgsales.csv', header = None)\n",
    "cleanedData.shape\n",
    "\n",
    "#Transforming the list into a list of lists, so that each transaction can be indexed easier\n",
    "transactions = []\n",
    "for i in range(0, cleanedData.shape[0]):\n",
    "    transactions.append([str(cleanedData.values[i, j]) for j in range(0, 11)])\n",
    "\n",
    "print(transactions[0])"
   ],
   "metadata": {
    "collapsed": false,
    "pycharm": {
     "name": "#%%\n"
    }
   }
  },
  {
   "cell_type": "code",
   "execution_count": 64,
   "outputs": [
    {
     "data": {
      "text/plain": "          items   support                                 ordered_statistics\n0  (SNES, 1994)  0.003193  [((1994), (SNES), 0.4344262295081967, 30.17171...\n1    (1995, PS)  0.006024  [((1995), (PS), 0.4545454545454546, 6.30852842...\n2   (SAT, 1995)  0.003133  [((1995), (SAT), 0.2363636363636364, 22.678612...\n3  (SNES, 1995)  0.003253  [((1995), (SNES), 0.24545454545454548, 17.0472...\n4    (1996, PS)  0.009940  [((1996), (PS), 0.6250000000000001, 8.67422658...",
      "text/html": "<div>\n<style scoped>\n    .dataframe tbody tr th:only-of-type {\n        vertical-align: middle;\n    }\n\n    .dataframe tbody tr th {\n        vertical-align: top;\n    }\n\n    .dataframe thead th {\n        text-align: right;\n    }\n</style>\n<table border=\"1\" class=\"dataframe\">\n  <thead>\n    <tr style=\"text-align: right;\">\n      <th></th>\n      <th>items</th>\n      <th>support</th>\n      <th>ordered_statistics</th>\n    </tr>\n  </thead>\n  <tbody>\n    <tr>\n      <th>0</th>\n      <td>(SNES, 1994)</td>\n      <td>0.003193</td>\n      <td>[((1994), (SNES), 0.4344262295081967, 30.17171...</td>\n    </tr>\n    <tr>\n      <th>1</th>\n      <td>(1995, PS)</td>\n      <td>0.006024</td>\n      <td>[((1995), (PS), 0.4545454545454546, 6.30852842...</td>\n    </tr>\n    <tr>\n      <th>2</th>\n      <td>(SAT, 1995)</td>\n      <td>0.003133</td>\n      <td>[((1995), (SAT), 0.2363636363636364, 22.678612...</td>\n    </tr>\n    <tr>\n      <th>3</th>\n      <td>(SNES, 1995)</td>\n      <td>0.003253</td>\n      <td>[((1995), (SNES), 0.24545454545454548, 17.0472...</td>\n    </tr>\n    <tr>\n      <th>4</th>\n      <td>(1996, PS)</td>\n      <td>0.009940</td>\n      <td>[((1996), (PS), 0.6250000000000001, 8.67422658...</td>\n    </tr>\n  </tbody>\n</table>\n</div>"
     },
     "execution_count": 64,
     "metadata": {},
     "output_type": "execute_result"
    }
   ],
   "source": [
    "from apyori import apriori\n",
    "rules = apriori(transactions, min_support = 0.003, min_confidence = 0.2, min_lift = 3, min_length = 2)\n",
    "\n",
    "#viewing the rules\n",
    "results = list(rules)\n",
    "\n",
    "#Transferring the list to a table\n",
    "results = pd.DataFrame(results)\n",
    "results.head(5)"
   ],
   "metadata": {
    "collapsed": false,
    "pycharm": {
     "name": "#%%\n"
    }
   }
  },
  {
   "cell_type": "code",
   "execution_count": null,
   "outputs": [],
   "source": [],
   "metadata": {
    "collapsed": false,
    "pycharm": {
     "name": "#%%\n"
    }
   }
  }
 ],
 "metadata": {
  "kernelspec": {
   "display_name": "Python 3 (ipykernel)",
   "language": "python",
   "name": "python3"
  },
  "language_info": {
   "codemirror_mode": {
    "name": "ipython",
    "version": 3
   },
   "file_extension": ".py",
   "mimetype": "text/x-python",
   "name": "python",
   "nbconvert_exporter": "python",
   "pygments_lexer": "ipython3",
   "version": "3.9.12"
  }
 },
 "nbformat": 4,
 "nbformat_minor": 1
}