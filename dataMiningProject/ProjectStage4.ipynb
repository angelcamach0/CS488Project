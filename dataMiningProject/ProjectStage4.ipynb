{
 "cells": [
  {
   "cell_type": "markdown",
   "id": "2be3dc50-b425-4bef-b971-82a2b9fea775",
   "metadata": {
    "pycharm": {
     "name": "#%% md\n"
    },
    "tags": []
   },
   "source": [
    "### Group Members:\n",
    "\n",
    "\n",
    "\n",
    "* Courtney Mueller\n",
    "* Angel Camacho \n",
    "* Matthew Grover "
   ]
  },
  {
   "cell_type": "code",
   "execution_count": 1,
   "id": "c3c09e90-3350-49ea-a15f-c053b27c4b37",
   "metadata": {
    "pycharm": {
     "name": "#%%\n"
    }
   },
   "outputs": [
    {
     "ename": "ModuleNotFoundError",
     "evalue": "No module named 'pandas'",
     "output_type": "error",
     "traceback": [
      "\u001b[1;31m---------------------------------------------------------------------------\u001b[0m",
      "\u001b[1;31mModuleNotFoundError\u001b[0m                       Traceback (most recent call last)",
      "Cell \u001b[1;32mIn [1], line 2\u001b[0m\n\u001b[0;32m      1\u001b[0m \u001b[39m#importing potentially necessary libraries\u001b[39;00m\n\u001b[1;32m----> 2\u001b[0m \u001b[39mimport\u001b[39;00m \u001b[39mpandas\u001b[39;00m \u001b[39mas\u001b[39;00m \u001b[39mpd\u001b[39;00m\n\u001b[0;32m      3\u001b[0m \u001b[39mimport\u001b[39;00m \u001b[39mnumpy\u001b[39;00m \u001b[39mas\u001b[39;00m \u001b[39mnp\u001b[39;00m\n\u001b[0;32m      4\u001b[0m \u001b[39mimport\u001b[39;00m \u001b[39mmatplotlib\u001b[39;00m\u001b[39m.\u001b[39;00m\u001b[39mpyplot\u001b[39;00m \u001b[39mas\u001b[39;00m \u001b[39mplt\u001b[39;00m\n",
      "\u001b[1;31mModuleNotFoundError\u001b[0m: No module named 'pandas'"
     ]
    }
   ],
   "source": [
    "#importing potentially necessary libraries\n",
    "import pandas as pd\n",
    "import numpy as np\n",
    "import matplotlib.pyplot as plt\n",
    "import seaborn as sns\n",
    "import matplotlib\n",
    "import csv\n",
    "from sklearn.linear_model import LinearRegression\n",
    "from sklearn.model_selection import train_test_split\n",
    "from scipy.stats import pearsonr\n",
    "from sklearn.metrics import mean_squared_error\n",
    "from math import sqrt\n",
    "from sklearn import preprocessing\n",
    "from matplotlib import pyplot as plt"
   ]
  },
  {
   "cell_type": "markdown",
   "id": "9a40a206-f94a-4c8b-a9cd-9f0d0103e106",
   "metadata": {
    "pycharm": {
     "name": "#%% md\n"
    },
    "tags": []
   },
   "source": [
    "***\n",
    "## First Dataset: [FirstDataset](https://www.kaggle.com/datasets/jummyegg/rawg-game-dataset/code?resource=download)\n",
    "#### Display information about rows and columns in dataset:"
   ]
  },
  {
   "cell_type": "code",
   "execution_count": null,
   "id": "ee6b3c91",
   "metadata": {
    "collapsed": false,
    "pycharm": {
     "name": "#%%\n"
    }
   },
   "outputs": [],
   "source": [
    "df1 = pd.read_csv('game_info.csv') # read in the dataset\n",
    "print(\"shape: \", df1.shape) # display dataset information\n",
    "df1.head() # print first few lines of dataset#\n",
    "df1"
   ]
  },
  {
   "cell_type": "markdown",
   "id": "7afa6690",
   "metadata": {
    "collapsed": false,
    "pycharm": {
     "name": "#%% md\n"
    }
   },
   "source": [
    "#### Table displaying information for genre:\n",
    "The above dataset information about various video game titles including its publisher and development company. Below we plot this information and display genre frequency. We base this upon the genre count information given in the dataset as well. Based on the data gathered in our dataset it can be determined that we have a sufficient amount of information on the game titles given in order to produce recommendations"
   ]
  },
  {
   "cell_type": "markdown",
   "id": "ee4f9f4c",
   "metadata": {
    "collapsed": false,
    "pycharm": {
     "name": "#%% md\n"
    }
   },
   "source": [
    "plotting genre frequency \\\n",
    "from the genre count we can see that we have sufficient games to produce reccomendations "
   ]
  },
  {
   "cell_type": "code",
   "execution_count": null,
   "id": "b3aef7e3",
   "metadata": {
    "collapsed": false,
    "pycharm": {
     "name": "#%%\n"
    }
   },
   "outputs": [],
   "source": [
    "sns.set(rc={\"figure.figsize\":(20, 20)}) #width=8, height=4\n",
    "ax = sns.countplot(x=\"genres\",data=df1)"
   ]
  },
  {
   "cell_type": "markdown",
   "id": "551efea0",
   "metadata": {
    "collapsed": false,
    "pycharm": {
     "name": "#%% md\n"
    }
   },
   "source": [
    "---"
   ]
  },
  {
   "cell_type": "markdown",
   "id": "34144650",
   "metadata": {
    "collapsed": false,
    "pycharm": {
     "name": "#%% md\n"
    }
   },
   "source": [
    "\n",
    "# Second Kaggle Dataset [Second Dataset](https://www.kaggle.com/datasets/gregorut/videogamesales)"
   ]
  },
  {
   "cell_type": "markdown",
   "id": "2612e226",
   "metadata": {
    "collapsed": false,
    "pycharm": {
     "name": "#%% md\n"
    }
   },
   "source": [
    "Read in data set "
   ]
  },
  {
   "cell_type": "code",
   "execution_count": null,
   "id": "69caa8a0",
   "metadata": {
    "collapsed": false,
    "pycharm": {
     "name": "#%%\n"
    }
   },
   "outputs": [],
   "source": [
    "df2 = pd.read_csv('./Data/vgsales.csv')\n",
    "print(\"shape: \",df2.shape)\n",
    "df2.head()"
   ]
  },
  {
   "cell_type": "markdown",
   "id": "be754707",
   "metadata": {
    "collapsed": false,
    "pycharm": {
     "name": "#%% md\n"
    }
   },
   "source": [
    "plot genre freq"
   ]
  },
  {
   "cell_type": "code",
   "execution_count": null,
   "id": "8bf1b414",
   "metadata": {
    "collapsed": false,
    "pycharm": {
     "name": "#%%\n"
    }
   },
   "outputs": [],
   "source": [
    "sns.set(rc={\"figure.figsize\":(20, 20)}) #width=8, height=4\n",
    "ax = sns.countplot(x=\"Genre\",data=df2)"
   ]
  },
  {
   "cell_type": "markdown",
   "id": "41d168cc",
   "metadata": {
    "collapsed": false,
    "pycharm": {
     "name": "#%% md\n"
    }
   },
   "source": [
    "---\n",
    "\n",
    "\n",
    "# **Analysis** \n",
    "\n",
    "The two datasets that we have chosen for our project have both shown sufficient instances and provide viable statistics for a reliable analysis. While one has a larger variety of genres for nuanced analysis. The second data set has the smaller set of data but also a more concise set of genres, making it easier for us to analyze the data based on genre of game. Having some type of filter system for genre is something we wanted to rely heavily upon for our database analysis so having something that has that implemented prior makes it a little easier on us to conceptualize how we want to bring our project together. After having a meeting and coming together to agree upon the direction we want to take our project in - we decided that the main focus of our project is going to be grouping together game titles based upon genre in hopes to establish a target audience. We are hoping with this target audience we will be able to initiate an increase in willingness to try new game titles based upon recommendations based on our analysis. Due to the nature of this problem, we see our project being a good example of a \"clustering\" data mining technique"
   ]
  },
  {
   "cell_type": "markdown",
   "id": "5cfe8483",
   "metadata": {
    "collapsed": false,
    "pycharm": {
     "name": "#%% md\n"
    }
   },
   "source": [
    "---\n",
    "### Project: Stage 4"
   ]
  },
  {
   "cell_type": "markdown",
   "id": "a6a8c2b6",
   "metadata": {
    "collapsed": false,
    "pycharm": {
     "name": "#%% md\n"
    }
   },
   "source": [
    "# Inspired by analysis done on kaggle: [Dataset 3](https://www.kaggle.com/code/arthurtok/the-console-wars-ps-vs-xbox-vs-wii)\n"
   ]
  },
  {
   "cell_type": "code",
   "execution_count": null,
   "id": "607b080b",
   "metadata": {
    "collapsed": false,
    "pycharm": {
     "name": "#%%\n"
    }
   },
   "outputs": [],
   "source": [
    "#clean the data set\n",
    "#df1 = df1.dropna()\n",
    "vgs = df2.dropna()"
   ]
  },
  {
   "cell_type": "code",
   "execution_count": null,
   "id": "5a956156",
   "metadata": {
    "collapsed": false,
    "pycharm": {
     "name": "#%%\n"
    }
   },
   "outputs": [],
   "source": [
    "vgs.info()"
   ]
  },
  {
   "cell_type": "code",
   "execution_count": null,
   "id": "e646bec0",
   "metadata": {
    "collapsed": false,
    "pycharm": {
     "name": "#%%\n"
    }
   },
   "outputs": [],
   "source": [
    "vgs.head"
   ]
  },
  {
   "cell_type": "code",
   "execution_count": null,
   "id": "795e2d58",
   "metadata": {
    "collapsed": false,
    "pycharm": {
     "name": "#%%\n"
    }
   },
   "outputs": [],
   "source": [
    "# find all unique values within the dataset\n",
    "vgs.Platform.unique()"
   ]
  },
  {
   "cell_type": "code",
   "execution_count": null,
   "id": "210562f3",
   "metadata": {
    "collapsed": false,
    "pycharm": {
     "name": "#%%\n"
    }
   },
   "outputs": [],
   "source": [
    "# Dataframe contain info only on the 7th Gen consoles\n",
    "video7th = vgs[(vgs['Platform'] == 'WiiU') | (vgs['Platform'] == 'XOne') | (vgs['Platform'] == 'PS4')]\n",
    "video7th.shape\n",
    "\n",
    "vgs.info()"
   ]
  },
  {
   "cell_type": "markdown",
   "id": "7f02f6ce",
   "metadata": {
    "collapsed": false,
    "pycharm": {
     "name": "#%% md\n"
    }
   },
   "source": [
    "### Game sales by publisher stage 4 \n",
    "We want to analyse how publisher may affect sales in regions\n"
   ]
  },
  {
   "cell_type": "code",
   "execution_count": null,
   "id": "4f28f953",
   "metadata": {
    "collapsed": false,
    "pycharm": {
     "name": "#%%\n"
    }
   },
   "outputs": [],
   "source": [
    "vgs.info()\n",
    "vgs.head()"
   ]
  },
  {
   "cell_type": "markdown",
   "id": "c75dcf1a",
   "metadata": {
    "collapsed": false,
    "pycharm": {
     "name": "#%% md\n"
    }
   },
   "source": [
    "After runnning this piece of code we will see that there are no indie games when compared to a list of indie games from wikepidia. This means in later stages we might want to include a indie game database to include that side of the market. "
   ]
  },
  {
   "cell_type": "code",
   "execution_count": null,
   "id": "2c568886",
   "metadata": {
    "collapsed": false,
    "pycharm": {
     "name": "#%%\n"
    }
   },
   "outputs": [],
   "source": [
    "inlist = False\n",
    "count =0\n",
    "with open('./Data/indiegames.txt', 'r') as reader:\n",
    "    # Read and print the entire file line by line\n",
    "    line = reader.readline()\n",
    "    while line != '':  # The EOF char is an empty string\n",
    "        #print(line, end='')\n",
    "        line = reader.readline()\n",
    "        y = line.lower()\n",
    "        y = y.replace(\" \",\"\")\n",
    "        y.strip()\n",
    "        for i in vgs['Name']:\n",
    "            i = i.lower()\n",
    "            i = i.replace(\" \",\"\")\n",
    "            i.strip()\n",
    "            if y == i:\n",
    "                inlist =True\n",
    "                count+=1\n",
    "            \n",
    "if inlist:\n",
    "    print(\"there exist some indie games:\")\n",
    "    print(\"sum of indie games in list: \", count)\n",
    "else:\n",
    "    print(\"no indie games\")\n",
    "        "
   ]
  },
  {
   "cell_type": "code",
   "execution_count": null,
   "id": "c9c9c5c2",
   "metadata": {
    "collapsed": false,
    "pycharm": {
     "name": "#%%\n"
    }
   },
   "outputs": [],
   "source": [
    "# ensure no non-existent rows that will mess with our data\n",
    "vgs = vgs.dropna(axis = 0)"
   ]
  },
  {
   "cell_type": "markdown",
   "id": "3ab05012",
   "metadata": {
    "collapsed": false,
    "pycharm": {
     "name": "#%% md\n"
    }
   },
   "source": [
    "From this we can see that there is a large variety of publishers meaning we may want to shrink the number of publishers we are looking at. We produce a csv that shows how many times a unique publisher shows up in the data set. We generate a new csv with that data. "
   ]
  },
  {
   "cell_type": "code",
   "execution_count": null,
   "id": "0b4f02d9",
   "metadata": {
    "collapsed": false,
    "pycharm": {
     "name": "#%%\n"
    }
   },
   "outputs": [],
   "source": [
    "#generate a new list that may be easier to use in code\n",
    "countlist = vgs['Publisher'].value_counts()\n",
    "print(countlist)\n",
    "\n",
    "# generate a new csv code for count data - we commented out to prevent constant writes\n",
    "# count = vgs.groupby(['Publisher']).count()\n",
    "# count.head()\n",
    "# count.to_csv('./Data/publishercount.csv')"
   ]
  },
  {
   "cell_type": "markdown",
   "id": "7121a683",
   "metadata": {
    "collapsed": false,
    "pycharm": {
     "name": "#%% md\n"
    }
   },
   "source": [
    "# Pie Chart\n",
    "Below is a pie chart to describe the three major video game platforms that we will be using for our analysis. These values represent the total number of Global Sales for each platform, as well as the total number of individual users that contributed to the sales total. These two total values (global sales / users) were added together and the sum is represented in the pie chart."
   ]
  },
  {
   "cell_type": "code",
   "execution_count": null,
   "id": "af044c53",
   "metadata": {
    "collapsed": false,
    "pycharm": {
     "name": "#%%\n"
    }
   },
   "outputs": [],
   "source": [
    "# Plotting our pie charts\n",
    "# Create a list of colors\n",
    "plt.style.use('seaborn-white')\n",
    "colors = ['#008DB8','#00AAAA','#00C69C']\n",
    "plt.figure(figsize=(15,11))\n",
    "plt.subplot(121)\n",
    "plt.pie(\n",
    "    video7th.groupby('Platform').Global_Sales.sum(),\n",
    "    # with the labels being platform\n",
    "    labels=video7th.groupby('Platform').Global_Sales.sum().index,\n",
    "    # with no shadows\n",
    "    shadow=False,\n",
    "    # stating our colors\n",
    "    colors=colors,\n",
    "    explode=(0.05, 0.05, 0.05),\n",
    "    # with the start angle at 90%\n",
    "    startangle=90,\n",
    "    # with the percent listed as a fraction\n",
    "    autopct='%1.1f%%'\n",
    ")\n",
    "\n",
    "plt.axis('equal')\n",
    "plt.tight_layout()\n",
    "plt.show()"
   ]
  },
  {
   "cell_type": "markdown",
   "id": "38149cb0",
   "metadata": {
    "collapsed": false,
    "pycharm": {
     "name": "#%% md\n"
    }
   },
   "source": []
  },
  {
   "cell_type": "markdown",
   "id": "5512b988",
   "metadata": {
    "collapsed": false,
    "pycharm": {
     "name": "#%% md\n"
    }
   },
   "source": [
    "# Headmap Diagram\n",
    "We use the heat map created below to analyze the correlations between all values given within our dataset. We do so by extracting all the columns that contain numeric values and add this to its own list. We will put this new piece of information into its own dataset to better separate and explore these values. \"Critic_Score\" and \"User_Score\" columns were used as the first point for plotting because they are useful for observing how two variables can be distributed. Any value above 0.4 can be considered to have a correlation between values."
   ]
  },
  {
   "cell_type": "code",
   "execution_count": null,
   "id": "a9366a9e",
   "metadata": {
    "collapsed": false,
    "pycharm": {
     "name": "#%%\n"
    }
   },
   "outputs": [],
   "source": [
    "str_list = [] # empty list to contain columns with strings (words)\n",
    "for colname, colvalue in vgs.iteritems():\n",
    "    if type(colvalue[2]) == str:\n",
    "        str_list.append(colname)\n",
    "# Get to the numeric columns by inversion\n",
    "num_list = vgs.columns.difference(str_list)\n",
    "# Create Dataframe containing only numerical features\n",
    "video_num = vgs[num_list]\n",
    "f, ax = plt.subplots(figsize=(14, 11))\n",
    "plt.title('Pearson Correlation of Video Game Numerical Features')\n",
    "# Draw the heatmap using seaborn\n",
    "sns.heatmap(video_num.astype(float).corr(),linewidths=0.25,vmax=1.0,\n",
    "            square=True, cmap=\"cubehelix_r\", linecolor='k', annot=True)"
   ]
  },
  {
   "cell_type": "markdown",
   "id": "58163080",
   "metadata": {
    "collapsed": false,
    "pycharm": {
     "name": "#%% md\n"
    }
   },
   "source": [
    "# Bar Chart for Global Sales\n",
    "Below we use a bar chat to describe and showcase the total number of sales globally for each console. Using this data we can identify if there are any trends amongst timeframe, location, demographic comparative to video gaming platform type. We use a stacked bar graph in order to display all of this information reasonably."
   ]
  },
  {
   "cell_type": "code",
   "execution_count": null,
   "id": "8346835d",
   "metadata": {
    "collapsed": false,
    "pycharm": {
     "name": "#%%\n"
    }
   },
   "outputs": [],
   "source": [
    "plt.style.use('dark_background')\n",
    "yearlySales = video7th.groupby(['Year','Platform']).Global_Sales.sum()\n",
    "yearlySales.unstack().plot(kind='bar',stacked=True, colormap= 'PuBu',\n",
    "                           grid=False,  figsize=(13,11))\n",
    "plt.title('Stacked Barplot of Global Yearly Sales of the 7th Gen Consoles')\n",
    "plt.ylabel('Global Sales')"
   ]
  },
  {
   "cell_type": "markdown",
   "id": "39728bae",
   "metadata": {
    "collapsed": false,
    "pycharm": {
     "name": "#%% md\n"
    }
   },
   "source": [
    "# Bar Chart for Genre\n",
    "Below we use a bar graph to describe and analyze the data by taking a look at the sales that were made by all three consoles. There is a group for each genre of video game, and the bar chart goes into detail about the sales per console as well as what genre was more popular for each. By looking at this analysis we can determine what differentiates one console from another and the unique characteristics about each of them. To do this we aggregate and group the data using the \"groupby\" method and calling it upon both the Genre and Platform features in our data."
   ]
  },
  {
   "cell_type": "code",
   "execution_count": null,
   "id": "b7347c39",
   "metadata": {
    "collapsed": false,
    "pycharm": {
     "name": "#%%\n"
    }
   },
   "outputs": [],
   "source": [
    "plt.style.use('dark_background')\n",
    "genreSales = video7th.groupby(['Genre','Platform']).Global_Sales.sum()\n",
    "genreSales.unstack().plot(kind='bar',stacked=True,  colormap= 'Reds',\n",
    "                          grid=False, figsize=(13,11))\n",
    "plt.title('Stacked Barplot of Sales per Game Genre')\n",
    "plt.ylabel('Sales')"
   ]
  },
  {
   "cell_type": "markdown",
   "id": "7e307f6a",
   "metadata": {
    "collapsed": false,
    "pycharm": {
     "name": "#%% md\n"
    }
   },
   "source": [
    "# Bar Chart for Global Sales\n",
    "Below we use a bar chat to describe and showcase the total number of sales globally for each console. Using this data we can identify if there are any trends amongst timeframe, location, demographic comparative to video gaming platform type. We use a stacked bar graph in order to display all of this information reasonably."
   ]
  },
  {
   "cell_type": "code",
   "execution_count": null,
   "id": "0f3cb59a",
   "metadata": {
    "collapsed": false,
    "pycharm": {
     "name": "#%%\n"
    }
   },
   "outputs": [
    {
     "data": {
      "text/plain": [
       "Text(0, 0.5, 'Global Sales')"
      ]
     },
     "execution_count": 54,
     "metadata": {},
     "output_type": "execute_result"
    },
    {
     "data": {
      "image/png": "[encoded data removed]",
      "text/plain": [
       "<Figure size 936x792 with 1 Axes>"
      ]
     },
     "metadata": {},
     "output_type": "display_data"
    }
   ],
   "source": [
    "plt.style.use('dark_background')\n",
    "yearlySales = video7th.groupby(['Year','Platform']).Global_Sales.sum()\n",
    "yearlySales.unstack().plot(kind='bar',stacked=True, colormap= 'PuBu',\n",
    "                           grid=False,  figsize=(13,11))\n",
    "plt.title('Stacked Barplot of Global Yearly Sales of the 7th Gen Consoles')\n",
    "plt.ylabel('Global Sales')"
   ]
  },
  {
   "cell_type": "markdown",
   "id": "83b6b1e8",
   "metadata": {
    "collapsed": false,
    "pycharm": {
     "name": "#%% md\n"
    }
   },
   "source": [
    "# Bar Chart for Genre\n",
    "Below we use a bar graph to describe and analyze the data by taking a look at the sales that were made by all three consoles. There is a group for each genre of video game, and the bar chart goes into detail about the sales per console as well as what genre was more popular for each. By looking at this analysis we can determine what differentiates one console from another and the unique characteristics about each of them. To do this we aggregate and group the data using the \"groupby\" method and calling it upon both the Genre and Platform features in our data."
   ]
  },
  {
   "cell_type": "code",
   "execution_count": null,
   "id": "d41cc3e9",
   "metadata": {
    "collapsed": false,
    "pycharm": {
     "name": "#%%\n"
    }
   },
   "outputs": [
    {
     "data": {
      "text/plain": [
       "Text(0, 0.5, 'Sales')"
      ]
     },
     "execution_count": 56,
     "metadata": {},
     "output_type": "execute_result"
    },
    {
     "data": {
      "image/png": "[encoded data removed]",
      "text/plain": [
       "<Figure size 936x792 with 1 Axes>"
      ]
     },
     "metadata": {},
     "output_type": "display_data"
    }
   ],
   "source": [
    "plt.style.use('dark_background')\n",
    "genreSales = video7th.groupby(['Genre','Platform']).Global_Sales.sum()\n",
    "genreSales.unstack().plot(kind='bar',stacked=True,  colormap= 'Reds',\n",
    "                          grid=False, figsize=(13,11))\n",
    "plt.title('Stacked Barplot of Sales per Game Genre')\n",
    "plt.ylabel('Sales')"
   ]
  },
  {
   "cell_type": "markdown",
   "id": "ced2789d",
   "metadata": {},
   "source": [
    "### approach\n",
    "we want to use association rules. This will allow us to gain the market understanding that we want for example EA->NA sales and Nintendo -> japan sales. The data we have is somewhat similair to market data and the association style of analysis is used in similair situations in real applications. In order to do this we want to further clean our data sets and perhaps find a wider set of publishers via a indie games database to help our solution be cleaner. "
   ]
  }
 ],
 "metadata": {
  "kernelspec": {
   "display_name": "Python 3.9.13 64-bit (microsoft store)",
   "language": "python",
   "name": "python3"
  },
  "language_info": {
   "codemirror_mode": {
    "name": "ipython",
    "version": 3
   },
   "file_extension": ".py",
   "mimetype": "text/x-python",
   "name": "python",
   "nbconvert_exporter": "python",
   "pygments_lexer": "ipython3",
   "version": "3.9.13"
  },
  "vscode": {
   "interpreter": {
    "hash": "f5664fe4e005dd362c397bcdffae4e00f5020e23417ab0a90dc25e3094118cf6"
   }
  }
 },
 "nbformat": 4,
 "nbformat_minor": 5
}
